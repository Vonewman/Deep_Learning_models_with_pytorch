{
  "nbformat": 4,
  "nbformat_minor": 0,
  "metadata": {
    "colab": {
      "name": "Deep-Residual-Network-CIFAR10.ipynb",
      "provenance": [],
      "authorship_tag": "ABX9TyOSnJqP0tgtSITFr6e69RXl",
      "include_colab_link": true
    },
    "kernelspec": {
      "name": "python3",
      "display_name": "Python 3"
    },
    "accelerator": "GPU"
  },
  "cells": [
    {
      "cell_type": "markdown",
      "metadata": {
        "id": "view-in-github",
        "colab_type": "text"
      },
      "source": [
        "<a href=\"https://colab.research.google.com/github/Vonewman/Deep_Learning_models_with_pytorch/blob/master/Deep_Residual_Network_CIFAR10.ipynb\" target=\"_parent\"><img src=\"https://colab.research.google.com/assets/colab-badge.svg\" alt=\"Open In Colab\"/></a>"
      ]
    },
    {
      "cell_type": "markdown",
      "metadata": {
        "id": "85MODubHAlb0"
      },
      "source": [
        "## Import Libraries"
      ]
    },
    {
      "cell_type": "code",
      "metadata": {
        "id": "51WclaGg5y9x"
      },
      "source": [
        "import torch\n",
        "import torch.nn as nn\n",
        "import torchvision\n",
        "import torchvision.transforms as transforms"
      ],
      "execution_count": 9,
      "outputs": []
    },
    {
      "cell_type": "markdown",
      "metadata": {
        "id": "jl-60oVNDUD1"
      },
      "source": [
        "## Device configuration"
      ]
    },
    {
      "cell_type": "code",
      "metadata": {
        "colab": {
          "base_uri": "https://localhost:8080/"
        },
        "id": "2ls_sLxUBxFz",
        "outputId": "2c096b21-5947-49a6-e373-337c22fa5b33"
      },
      "source": [
        "device = torch.device('cuda' if torch.cuda.is_available() else 'cpu')\n",
        "device"
      ],
      "execution_count": 10,
      "outputs": [
        {
          "output_type": "execute_result",
          "data": {
            "text/plain": [
              "device(type='cuda')"
            ]
          },
          "metadata": {
            "tags": []
          },
          "execution_count": 10
        }
      ]
    },
    {
      "cell_type": "markdown",
      "metadata": {
        "id": "RWlBCFpJEjKi"
      },
      "source": [
        "## Hyper-parameters"
      ]
    },
    {
      "cell_type": "code",
      "metadata": {
        "id": "cmk1suvsD7sb"
      },
      "source": [
        "num_epochs = 80\n",
        "batch_size = 100\n",
        "learning_rate = 0.01"
      ],
      "execution_count": 23,
      "outputs": []
    },
    {
      "cell_type": "markdown",
      "metadata": {
        "id": "3Gd2MexPmtGb"
      },
      "source": [
        "## Image Preprocessing"
      ]
    },
    {
      "cell_type": "code",
      "metadata": {
        "id": "zBz9AtCLE0XU"
      },
      "source": [
        "transform = transforms.Compose([\n",
        "                                transforms.Pad(4),\n",
        "                                transforms.RandomHorizontalFlip(),\n",
        "                                transforms.RandomCrop(32),\n",
        "                                transforms.ToTensor()])"
      ],
      "execution_count": 24,
      "outputs": []
    },
    {
      "cell_type": "markdown",
      "metadata": {
        "id": "TF6m7qNOrQdG"
      },
      "source": [
        "## CIFAR-10 dataset"
      ]
    },
    {
      "cell_type": "code",
      "metadata": {
        "colab": {
          "base_uri": "https://localhost:8080/"
        },
        "id": "2dxfOJe9pn60",
        "outputId": "3c2ad3c9-533b-4f5b-d91c-cacb4a0d409d"
      },
      "source": [
        "train_dataset = torchvision.datasets.CIFAR10(root='../../data/',\n",
        "                                             train=True, \n",
        "                                             transform=transform,\n",
        "                                             download=True)\n",
        "\n",
        "test_dataset = torchvision.datasets.CIFAR10(root='../../data/',\n",
        "                                            train=False, \n",
        "                                            transform=transforms.ToTensor())\n",
        "\n",
        "# Data loader\n",
        "train_loader = torch.utils.data.DataLoader(dataset=train_dataset,\n",
        "                                           batch_size=batch_size,\n",
        "                                           shuffle=True)\n",
        "\n",
        "test_loader = torch.utils.data.DataLoader(dataset=test_dataset,\n",
        "                                          batch_size=batch_size,\n",
        "                                          shuffle=False)"
      ],
      "execution_count": 25,
      "outputs": [
        {
          "output_type": "stream",
          "text": [
            "Files already downloaded and verified\n"
          ],
          "name": "stdout"
        }
      ]
    },
    {
      "cell_type": "markdown",
      "metadata": {
        "id": "lpvth2CHrxLx"
      },
      "source": [
        "## 3x3 Convolution"
      ]
    },
    {
      "cell_type": "code",
      "metadata": {
        "id": "dnUOHKejrSob"
      },
      "source": [
        "def conv3x3(in_channels, out_channels, stride=1):\n",
        "    return nn.Conv2d(in_channels, out_channels, kernel_size=3,\n",
        "                     stride=stride, padding=1, bias=False)"
      ],
      "execution_count": 26,
      "outputs": []
    },
    {
      "cell_type": "markdown",
      "metadata": {
        "id": "8ZtJN0bkv8Lk"
      },
      "source": [
        "## Residual block"
      ]
    },
    {
      "cell_type": "code",
      "metadata": {
        "id": "S7boMNY0sXWo"
      },
      "source": [
        "class ResidualBlock(nn.Module):\n",
        "\n",
        "    def __init__(self, in_channels, out_channels, stride=1, downsample=None):\n",
        "        super(ResidualBlock, self).__init__()\n",
        "        self.conv1 = conv3x3(in_channels, out_channels, stride)\n",
        "        self.bn1 = nn.BatchNorm2d(out_channels)\n",
        "        self.relu = nn.ReLU(inplace=True)\n",
        "        self.conv2 = conv3x3(out_channels, out_channels)\n",
        "        self.bn2 = nn.BatchNorm2d(out_channels)\n",
        "        self.downsample = downsample\n",
        "\n",
        "    def forward(self, x):\n",
        "        residual = x\n",
        "        out = self.conv1(x)\n",
        "        out = self.bn1(out)\n",
        "        out = self.relu(out)\n",
        "        out = self.conv2(out)\n",
        "        out = self.bn2(out)\n",
        "        if self.downsample:\n",
        "            residual = self.downsample(x)\n",
        "        out += residual\n",
        "        out = self.relu(out)\n",
        "        return out"
      ],
      "execution_count": 27,
      "outputs": []
    },
    {
      "cell_type": "markdown",
      "metadata": {
        "id": "dL8EvvIG1qGJ"
      },
      "source": [
        "## Resnet"
      ]
    },
    {
      "cell_type": "code",
      "metadata": {
        "id": "ikNZ9aHX1Wlk"
      },
      "source": [
        "class ResNet(nn.Module):\n",
        "    def __init__(self, block, layers, num_classes=10):\n",
        "        super(ResNet, self).__init__()\n",
        "        self.in_channels = 16\n",
        "        self.conv = conv3x3(3, 16)\n",
        "        self.bn = nn.BatchNorm2d(16)\n",
        "        self.relu = nn.ReLU(inplace=True)\n",
        "        self.layer1 = self.make_layer(block, 16, layers[0])\n",
        "        self.layer2 = self.make_layer(block, 32, layers[1], 2)\n",
        "        self.layer3 = self.make_layer(block, 64, layers[2], 2)\n",
        "        self.avg_pool = nn.AvgPool2d(8)\n",
        "        self.fc = nn.Linear(64, num_classes)\n",
        "        \n",
        "    def make_layer(self, block, out_channels, blocks, stride=1):\n",
        "        downsample = None\n",
        "        if (stride != 1) or (self.in_channels != out_channels):\n",
        "            downsample = nn.Sequential(\n",
        "                conv3x3(self.in_channels, out_channels, stride=stride),\n",
        "                nn.BatchNorm2d(out_channels))\n",
        "        layers = []\n",
        "        layers.append(block(self.in_channels, out_channels, stride, downsample))\n",
        "        self.in_channels = out_channels\n",
        "        for i in range(1, blocks):\n",
        "            layers.append(block(out_channels, out_channels))\n",
        "        return nn.Sequential(*layers)\n",
        "    \n",
        "    def forward(self, x):\n",
        "        out = self.conv(x)\n",
        "        out = self.bn(out)\n",
        "        out = self.relu(out)\n",
        "        out = self.layer1(out)\n",
        "        out = self.layer2(out)\n",
        "        out = self.layer3(out)\n",
        "        out = self.avg_pool(out)\n",
        "        out = out.view(out.size(0), -1)\n",
        "        out = self.fc(out)\n",
        "        return out\n",
        "\n",
        "model = ResNet(ResidualBlock, [2, 2, 2]).to(device)"
      ],
      "execution_count": 28,
      "outputs": []
    },
    {
      "cell_type": "markdown",
      "metadata": {
        "id": "9wBkrGke52t7"
      },
      "source": [
        "## Loss and optimizer"
      ]
    },
    {
      "cell_type": "code",
      "metadata": {
        "id": "RZrCI2WU21uZ"
      },
      "source": [
        "criterion = nn.CrossEntropyLoss()\n",
        "optimizer = torch.optim.Adam(model.parameters(), lr=learning_rate)"
      ],
      "execution_count": 29,
      "outputs": []
    },
    {
      "cell_type": "code",
      "metadata": {
        "id": "dB_JxnE36D41"
      },
      "source": [
        "# For updating learning rate\n",
        "def update_lr(optimizer, lr):    \n",
        "    for param_group in optimizer.param_groups:\n",
        "        param_group['lr'] = lr"
      ],
      "execution_count": 30,
      "outputs": []
    },
    {
      "cell_type": "markdown",
      "metadata": {
        "id": "OPP_w82g9o6k"
      },
      "source": [
        "## Train model"
      ]
    },
    {
      "cell_type": "code",
      "metadata": {
        "colab": {
          "base_uri": "https://localhost:8080/"
        },
        "id": "Hjxv3wl67DHh",
        "outputId": "7bd5a1b4-9cee-46d5-bafd-226444889e77"
      },
      "source": [
        "# Train the model\n",
        "total_step = len(train_loader)\n",
        "curr_lr = learning_rate\n",
        "for epoch in range(num_epochs):\n",
        "    for i, (images, labels) in enumerate(train_loader):\n",
        "        images = images.to(device)\n",
        "        labels = labels.to(device)\n",
        "        \n",
        "        # Forward pass\n",
        "        outputs = model(images)\n",
        "        loss = criterion(outputs, labels)\n",
        "        \n",
        "        # Backward and optimize\n",
        "        optimizer.zero_grad()\n",
        "        loss.backward()\n",
        "        optimizer.step()\n",
        "        \n",
        "        if (i+1) % 100 == 0:\n",
        "            print (\"Epoch [{}/{}], Step [{}/{}] Loss: {:.4f}\"\n",
        "                   .format(epoch+1, num_epochs, i+1, total_step, loss.item()))\n",
        "\n",
        "    # Decay learning rate\n",
        "    if (epoch+1) % 20 == 0:\n",
        "        curr_lr /= 3\n",
        "        update_lr(optimizer, curr_lr)"
      ],
      "execution_count": 31,
      "outputs": [
        {
          "output_type": "stream",
          "text": [
            "Epoch [1/80], Step [100/500] Loss: 1.7893\n",
            "Epoch [1/80], Step [200/500] Loss: 1.5286\n",
            "Epoch [1/80], Step [300/500] Loss: 1.6262\n",
            "Epoch [1/80], Step [400/500] Loss: 1.5998\n",
            "Epoch [1/80], Step [500/500] Loss: 1.3639\n",
            "Epoch [2/80], Step [100/500] Loss: 1.4040\n",
            "Epoch [2/80], Step [200/500] Loss: 1.1636\n",
            "Epoch [2/80], Step [300/500] Loss: 0.9175\n",
            "Epoch [2/80], Step [400/500] Loss: 1.0476\n",
            "Epoch [2/80], Step [500/500] Loss: 0.9237\n",
            "Epoch [3/80], Step [100/500] Loss: 0.9242\n",
            "Epoch [3/80], Step [200/500] Loss: 1.0397\n",
            "Epoch [3/80], Step [300/500] Loss: 0.7821\n",
            "Epoch [3/80], Step [400/500] Loss: 0.8865\n",
            "Epoch [3/80], Step [500/500] Loss: 0.7363\n",
            "Epoch [4/80], Step [100/500] Loss: 0.8147\n",
            "Epoch [4/80], Step [200/500] Loss: 0.7686\n",
            "Epoch [4/80], Step [300/500] Loss: 0.5669\n",
            "Epoch [4/80], Step [400/500] Loss: 0.9338\n",
            "Epoch [4/80], Step [500/500] Loss: 0.6842\n",
            "Epoch [5/80], Step [100/500] Loss: 0.7105\n",
            "Epoch [5/80], Step [200/500] Loss: 0.8424\n",
            "Epoch [5/80], Step [300/500] Loss: 0.7485\n",
            "Epoch [5/80], Step [400/500] Loss: 0.7507\n",
            "Epoch [5/80], Step [500/500] Loss: 0.6431\n",
            "Epoch [6/80], Step [100/500] Loss: 0.5455\n",
            "Epoch [6/80], Step [200/500] Loss: 0.4915\n",
            "Epoch [6/80], Step [300/500] Loss: 0.5571\n",
            "Epoch [6/80], Step [400/500] Loss: 0.5112\n",
            "Epoch [6/80], Step [500/500] Loss: 0.7994\n",
            "Epoch [7/80], Step [100/500] Loss: 0.5805\n",
            "Epoch [7/80], Step [200/500] Loss: 0.5435\n",
            "Epoch [7/80], Step [300/500] Loss: 0.6011\n",
            "Epoch [7/80], Step [400/500] Loss: 0.4931\n",
            "Epoch [7/80], Step [500/500] Loss: 0.5062\n",
            "Epoch [8/80], Step [100/500] Loss: 0.5894\n",
            "Epoch [8/80], Step [200/500] Loss: 0.5817\n",
            "Epoch [8/80], Step [300/500] Loss: 0.4502\n",
            "Epoch [8/80], Step [400/500] Loss: 0.5793\n",
            "Epoch [8/80], Step [500/500] Loss: 0.6468\n",
            "Epoch [9/80], Step [100/500] Loss: 0.4184\n",
            "Epoch [9/80], Step [200/500] Loss: 0.4926\n",
            "Epoch [9/80], Step [300/500] Loss: 0.4080\n",
            "Epoch [9/80], Step [400/500] Loss: 0.4879\n",
            "Epoch [9/80], Step [500/500] Loss: 0.4136\n",
            "Epoch [10/80], Step [100/500] Loss: 0.5141\n",
            "Epoch [10/80], Step [200/500] Loss: 0.4027\n",
            "Epoch [10/80], Step [300/500] Loss: 0.3845\n",
            "Epoch [10/80], Step [400/500] Loss: 0.5765\n",
            "Epoch [10/80], Step [500/500] Loss: 0.3904\n",
            "Epoch [11/80], Step [100/500] Loss: 0.5551\n",
            "Epoch [11/80], Step [200/500] Loss: 0.3674\n",
            "Epoch [11/80], Step [300/500] Loss: 0.4381\n",
            "Epoch [11/80], Step [400/500] Loss: 0.6172\n",
            "Epoch [11/80], Step [500/500] Loss: 0.2982\n",
            "Epoch [12/80], Step [100/500] Loss: 0.5003\n",
            "Epoch [12/80], Step [200/500] Loss: 0.3890\n",
            "Epoch [12/80], Step [300/500] Loss: 0.4498\n",
            "Epoch [12/80], Step [400/500] Loss: 0.4609\n",
            "Epoch [12/80], Step [500/500] Loss: 0.3425\n",
            "Epoch [13/80], Step [100/500] Loss: 0.4238\n",
            "Epoch [13/80], Step [200/500] Loss: 0.4168\n",
            "Epoch [13/80], Step [300/500] Loss: 0.3751\n",
            "Epoch [13/80], Step [400/500] Loss: 0.3209\n",
            "Epoch [13/80], Step [500/500] Loss: 0.5804\n",
            "Epoch [14/80], Step [100/500] Loss: 0.2928\n",
            "Epoch [14/80], Step [200/500] Loss: 0.5522\n",
            "Epoch [14/80], Step [300/500] Loss: 0.3923\n",
            "Epoch [14/80], Step [400/500] Loss: 0.4436\n",
            "Epoch [14/80], Step [500/500] Loss: 0.4651\n",
            "Epoch [15/80], Step [100/500] Loss: 0.3753\n",
            "Epoch [15/80], Step [200/500] Loss: 0.4708\n",
            "Epoch [15/80], Step [300/500] Loss: 0.2553\n",
            "Epoch [15/80], Step [400/500] Loss: 0.3755\n",
            "Epoch [15/80], Step [500/500] Loss: 0.3011\n",
            "Epoch [16/80], Step [100/500] Loss: 0.4748\n",
            "Epoch [16/80], Step [200/500] Loss: 0.3023\n",
            "Epoch [16/80], Step [300/500] Loss: 0.4044\n",
            "Epoch [16/80], Step [400/500] Loss: 0.3236\n",
            "Epoch [16/80], Step [500/500] Loss: 0.2526\n",
            "Epoch [17/80], Step [100/500] Loss: 0.4553\n",
            "Epoch [17/80], Step [200/500] Loss: 0.2599\n",
            "Epoch [17/80], Step [300/500] Loss: 0.3381\n",
            "Epoch [17/80], Step [400/500] Loss: 0.3441\n",
            "Epoch [17/80], Step [500/500] Loss: 0.4154\n",
            "Epoch [18/80], Step [100/500] Loss: 0.2901\n",
            "Epoch [18/80], Step [200/500] Loss: 0.2919\n",
            "Epoch [18/80], Step [300/500] Loss: 0.2584\n",
            "Epoch [18/80], Step [400/500] Loss: 0.3179\n",
            "Epoch [18/80], Step [500/500] Loss: 0.3446\n",
            "Epoch [19/80], Step [100/500] Loss: 0.3308\n",
            "Epoch [19/80], Step [200/500] Loss: 0.2623\n",
            "Epoch [19/80], Step [300/500] Loss: 0.2885\n",
            "Epoch [19/80], Step [400/500] Loss: 0.3262\n",
            "Epoch [19/80], Step [500/500] Loss: 0.3935\n",
            "Epoch [20/80], Step [100/500] Loss: 0.1490\n",
            "Epoch [20/80], Step [200/500] Loss: 0.2863\n",
            "Epoch [20/80], Step [300/500] Loss: 0.3914\n",
            "Epoch [20/80], Step [400/500] Loss: 0.3540\n",
            "Epoch [20/80], Step [500/500] Loss: 0.2756\n",
            "Epoch [21/80], Step [100/500] Loss: 0.1974\n",
            "Epoch [21/80], Step [200/500] Loss: 0.1727\n",
            "Epoch [21/80], Step [300/500] Loss: 0.2249\n",
            "Epoch [21/80], Step [400/500] Loss: 0.1946\n",
            "Epoch [21/80], Step [500/500] Loss: 0.2342\n",
            "Epoch [22/80], Step [100/500] Loss: 0.1685\n",
            "Epoch [22/80], Step [200/500] Loss: 0.2002\n",
            "Epoch [22/80], Step [300/500] Loss: 0.1738\n",
            "Epoch [22/80], Step [400/500] Loss: 0.2289\n",
            "Epoch [22/80], Step [500/500] Loss: 0.3138\n",
            "Epoch [23/80], Step [100/500] Loss: 0.2370\n",
            "Epoch [23/80], Step [200/500] Loss: 0.0892\n",
            "Epoch [23/80], Step [300/500] Loss: 0.1055\n",
            "Epoch [23/80], Step [400/500] Loss: 0.2913\n",
            "Epoch [23/80], Step [500/500] Loss: 0.1727\n",
            "Epoch [24/80], Step [100/500] Loss: 0.3093\n",
            "Epoch [24/80], Step [200/500] Loss: 0.1447\n",
            "Epoch [24/80], Step [300/500] Loss: 0.2212\n",
            "Epoch [24/80], Step [400/500] Loss: 0.2284\n",
            "Epoch [24/80], Step [500/500] Loss: 0.2050\n",
            "Epoch [25/80], Step [100/500] Loss: 0.2767\n",
            "Epoch [25/80], Step [200/500] Loss: 0.2195\n",
            "Epoch [25/80], Step [300/500] Loss: 0.2782\n",
            "Epoch [25/80], Step [400/500] Loss: 0.2239\n",
            "Epoch [25/80], Step [500/500] Loss: 0.2599\n",
            "Epoch [26/80], Step [100/500] Loss: 0.1843\n",
            "Epoch [26/80], Step [200/500] Loss: 0.1410\n",
            "Epoch [26/80], Step [300/500] Loss: 0.3274\n",
            "Epoch [26/80], Step [400/500] Loss: 0.2507\n",
            "Epoch [26/80], Step [500/500] Loss: 0.2243\n",
            "Epoch [27/80], Step [100/500] Loss: 0.1985\n",
            "Epoch [27/80], Step [200/500] Loss: 0.1575\n",
            "Epoch [27/80], Step [300/500] Loss: 0.2356\n",
            "Epoch [27/80], Step [400/500] Loss: 0.2954\n",
            "Epoch [27/80], Step [500/500] Loss: 0.1873\n",
            "Epoch [28/80], Step [100/500] Loss: 0.1841\n",
            "Epoch [28/80], Step [200/500] Loss: 0.1610\n",
            "Epoch [28/80], Step [300/500] Loss: 0.2441\n",
            "Epoch [28/80], Step [400/500] Loss: 0.2406\n",
            "Epoch [28/80], Step [500/500] Loss: 0.2174\n",
            "Epoch [29/80], Step [100/500] Loss: 0.1773\n",
            "Epoch [29/80], Step [200/500] Loss: 0.1382\n",
            "Epoch [29/80], Step [300/500] Loss: 0.1803\n",
            "Epoch [29/80], Step [400/500] Loss: 0.2579\n",
            "Epoch [29/80], Step [500/500] Loss: 0.1687\n",
            "Epoch [30/80], Step [100/500] Loss: 0.1872\n",
            "Epoch [30/80], Step [200/500] Loss: 0.1296\n",
            "Epoch [30/80], Step [300/500] Loss: 0.2185\n",
            "Epoch [30/80], Step [400/500] Loss: 0.1489\n",
            "Epoch [30/80], Step [500/500] Loss: 0.2294\n",
            "Epoch [31/80], Step [100/500] Loss: 0.2019\n",
            "Epoch [31/80], Step [200/500] Loss: 0.1348\n",
            "Epoch [31/80], Step [300/500] Loss: 0.3189\n",
            "Epoch [31/80], Step [400/500] Loss: 0.2527\n",
            "Epoch [31/80], Step [500/500] Loss: 0.1969\n",
            "Epoch [32/80], Step [100/500] Loss: 0.1157\n",
            "Epoch [32/80], Step [200/500] Loss: 0.2205\n",
            "Epoch [32/80], Step [300/500] Loss: 0.1421\n",
            "Epoch [32/80], Step [400/500] Loss: 0.1547\n",
            "Epoch [32/80], Step [500/500] Loss: 0.1102\n",
            "Epoch [33/80], Step [100/500] Loss: 0.1803\n",
            "Epoch [33/80], Step [200/500] Loss: 0.1912\n",
            "Epoch [33/80], Step [300/500] Loss: 0.3502\n",
            "Epoch [33/80], Step [400/500] Loss: 0.1323\n",
            "Epoch [33/80], Step [500/500] Loss: 0.1365\n",
            "Epoch [34/80], Step [100/500] Loss: 0.2079\n",
            "Epoch [34/80], Step [200/500] Loss: 0.1631\n",
            "Epoch [34/80], Step [300/500] Loss: 0.1214\n",
            "Epoch [34/80], Step [400/500] Loss: 0.2003\n",
            "Epoch [34/80], Step [500/500] Loss: 0.3013\n",
            "Epoch [35/80], Step [100/500] Loss: 0.1858\n",
            "Epoch [35/80], Step [200/500] Loss: 0.2057\n",
            "Epoch [35/80], Step [300/500] Loss: 0.1669\n",
            "Epoch [35/80], Step [400/500] Loss: 0.2718\n",
            "Epoch [35/80], Step [500/500] Loss: 0.1914\n",
            "Epoch [36/80], Step [100/500] Loss: 0.2313\n",
            "Epoch [36/80], Step [200/500] Loss: 0.2572\n",
            "Epoch [36/80], Step [300/500] Loss: 0.1480\n",
            "Epoch [36/80], Step [400/500] Loss: 0.1749\n",
            "Epoch [36/80], Step [500/500] Loss: 0.1613\n",
            "Epoch [37/80], Step [100/500] Loss: 0.1284\n",
            "Epoch [37/80], Step [200/500] Loss: 0.1326\n",
            "Epoch [37/80], Step [300/500] Loss: 0.0920\n",
            "Epoch [37/80], Step [400/500] Loss: 0.1427\n",
            "Epoch [37/80], Step [500/500] Loss: 0.1537\n",
            "Epoch [38/80], Step [100/500] Loss: 0.2681\n",
            "Epoch [38/80], Step [200/500] Loss: 0.1439\n",
            "Epoch [38/80], Step [300/500] Loss: 0.3142\n",
            "Epoch [38/80], Step [400/500] Loss: 0.2013\n",
            "Epoch [38/80], Step [500/500] Loss: 0.1550\n",
            "Epoch [39/80], Step [100/500] Loss: 0.1741\n",
            "Epoch [39/80], Step [200/500] Loss: 0.1449\n",
            "Epoch [39/80], Step [300/500] Loss: 0.1042\n",
            "Epoch [39/80], Step [400/500] Loss: 0.2793\n",
            "Epoch [39/80], Step [500/500] Loss: 0.1046\n",
            "Epoch [40/80], Step [100/500] Loss: 0.1626\n",
            "Epoch [40/80], Step [200/500] Loss: 0.1195\n",
            "Epoch [40/80], Step [300/500] Loss: 0.1891\n",
            "Epoch [40/80], Step [400/500] Loss: 0.1009\n",
            "Epoch [40/80], Step [500/500] Loss: 0.1450\n",
            "Epoch [41/80], Step [100/500] Loss: 0.1219\n",
            "Epoch [41/80], Step [200/500] Loss: 0.1391\n",
            "Epoch [41/80], Step [300/500] Loss: 0.1881\n",
            "Epoch [41/80], Step [400/500] Loss: 0.1947\n",
            "Epoch [41/80], Step [500/500] Loss: 0.0905\n",
            "Epoch [42/80], Step [100/500] Loss: 0.1362\n",
            "Epoch [42/80], Step [200/500] Loss: 0.2289\n",
            "Epoch [42/80], Step [300/500] Loss: 0.1482\n",
            "Epoch [42/80], Step [400/500] Loss: 0.1498\n",
            "Epoch [42/80], Step [500/500] Loss: 0.1039\n",
            "Epoch [43/80], Step [100/500] Loss: 0.1969\n",
            "Epoch [43/80], Step [200/500] Loss: 0.1186\n",
            "Epoch [43/80], Step [300/500] Loss: 0.1645\n",
            "Epoch [43/80], Step [400/500] Loss: 0.1267\n",
            "Epoch [43/80], Step [500/500] Loss: 0.1291\n",
            "Epoch [44/80], Step [100/500] Loss: 0.0848\n",
            "Epoch [44/80], Step [200/500] Loss: 0.1118\n",
            "Epoch [44/80], Step [300/500] Loss: 0.1496\n",
            "Epoch [44/80], Step [400/500] Loss: 0.1377\n",
            "Epoch [44/80], Step [500/500] Loss: 0.1506\n",
            "Epoch [45/80], Step [100/500] Loss: 0.1231\n",
            "Epoch [45/80], Step [200/500] Loss: 0.1191\n",
            "Epoch [45/80], Step [300/500] Loss: 0.1800\n",
            "Epoch [45/80], Step [400/500] Loss: 0.2109\n",
            "Epoch [45/80], Step [500/500] Loss: 0.1318\n",
            "Epoch [46/80], Step [100/500] Loss: 0.1224\n",
            "Epoch [46/80], Step [200/500] Loss: 0.0805\n",
            "Epoch [46/80], Step [300/500] Loss: 0.1415\n",
            "Epoch [46/80], Step [400/500] Loss: 0.0923\n",
            "Epoch [46/80], Step [500/500] Loss: 0.2263\n",
            "Epoch [47/80], Step [100/500] Loss: 0.1570\n",
            "Epoch [47/80], Step [200/500] Loss: 0.1669\n",
            "Epoch [47/80], Step [300/500] Loss: 0.1059\n",
            "Epoch [47/80], Step [400/500] Loss: 0.1259\n",
            "Epoch [47/80], Step [500/500] Loss: 0.1205\n",
            "Epoch [48/80], Step [100/500] Loss: 0.0827\n",
            "Epoch [48/80], Step [200/500] Loss: 0.1400\n",
            "Epoch [48/80], Step [300/500] Loss: 0.2069\n",
            "Epoch [48/80], Step [400/500] Loss: 0.1544\n",
            "Epoch [48/80], Step [500/500] Loss: 0.0977\n",
            "Epoch [49/80], Step [100/500] Loss: 0.1772\n",
            "Epoch [49/80], Step [200/500] Loss: 0.1227\n",
            "Epoch [49/80], Step [300/500] Loss: 0.1901\n",
            "Epoch [49/80], Step [400/500] Loss: 0.0949\n",
            "Epoch [49/80], Step [500/500] Loss: 0.2092\n",
            "Epoch [50/80], Step [100/500] Loss: 0.0891\n",
            "Epoch [50/80], Step [200/500] Loss: 0.1822\n",
            "Epoch [50/80], Step [300/500] Loss: 0.1728\n",
            "Epoch [50/80], Step [400/500] Loss: 0.0769\n",
            "Epoch [50/80], Step [500/500] Loss: 0.0428\n",
            "Epoch [51/80], Step [100/500] Loss: 0.0568\n",
            "Epoch [51/80], Step [200/500] Loss: 0.2186\n",
            "Epoch [51/80], Step [300/500] Loss: 0.1778\n",
            "Epoch [51/80], Step [400/500] Loss: 0.2015\n",
            "Epoch [51/80], Step [500/500] Loss: 0.1817\n",
            "Epoch [52/80], Step [100/500] Loss: 0.0628\n",
            "Epoch [52/80], Step [200/500] Loss: 0.1194\n",
            "Epoch [52/80], Step [300/500] Loss: 0.1313\n",
            "Epoch [52/80], Step [400/500] Loss: 0.1160\n",
            "Epoch [52/80], Step [500/500] Loss: 0.0942\n",
            "Epoch [53/80], Step [100/500] Loss: 0.2757\n",
            "Epoch [53/80], Step [200/500] Loss: 0.0983\n",
            "Epoch [53/80], Step [300/500] Loss: 0.1618\n",
            "Epoch [53/80], Step [400/500] Loss: 0.1098\n",
            "Epoch [53/80], Step [500/500] Loss: 0.1455\n",
            "Epoch [54/80], Step [100/500] Loss: 0.2190\n",
            "Epoch [54/80], Step [200/500] Loss: 0.1049\n",
            "Epoch [54/80], Step [300/500] Loss: 0.1346\n",
            "Epoch [54/80], Step [400/500] Loss: 0.0796\n",
            "Epoch [54/80], Step [500/500] Loss: 0.1943\n",
            "Epoch [55/80], Step [100/500] Loss: 0.0595\n",
            "Epoch [55/80], Step [200/500] Loss: 0.0510\n",
            "Epoch [55/80], Step [300/500] Loss: 0.0755\n",
            "Epoch [55/80], Step [400/500] Loss: 0.1429\n",
            "Epoch [55/80], Step [500/500] Loss: 0.1119\n",
            "Epoch [56/80], Step [100/500] Loss: 0.0468\n",
            "Epoch [56/80], Step [200/500] Loss: 0.0813\n",
            "Epoch [56/80], Step [300/500] Loss: 0.2015\n",
            "Epoch [56/80], Step [400/500] Loss: 0.1131\n",
            "Epoch [56/80], Step [500/500] Loss: 0.0891\n",
            "Epoch [57/80], Step [100/500] Loss: 0.1734\n",
            "Epoch [57/80], Step [200/500] Loss: 0.1870\n",
            "Epoch [57/80], Step [300/500] Loss: 0.1122\n",
            "Epoch [57/80], Step [400/500] Loss: 0.0801\n",
            "Epoch [57/80], Step [500/500] Loss: 0.0991\n",
            "Epoch [58/80], Step [100/500] Loss: 0.0535\n",
            "Epoch [58/80], Step [200/500] Loss: 0.1022\n",
            "Epoch [58/80], Step [300/500] Loss: 0.1052\n",
            "Epoch [58/80], Step [400/500] Loss: 0.1947\n",
            "Epoch [58/80], Step [500/500] Loss: 0.0582\n",
            "Epoch [59/80], Step [100/500] Loss: 0.1226\n",
            "Epoch [59/80], Step [200/500] Loss: 0.0655\n",
            "Epoch [59/80], Step [300/500] Loss: 0.0933\n",
            "Epoch [59/80], Step [400/500] Loss: 0.0646\n",
            "Epoch [59/80], Step [500/500] Loss: 0.1399\n",
            "Epoch [60/80], Step [100/500] Loss: 0.1298\n",
            "Epoch [60/80], Step [200/500] Loss: 0.0830\n",
            "Epoch [60/80], Step [300/500] Loss: 0.1632\n",
            "Epoch [60/80], Step [400/500] Loss: 0.0926\n",
            "Epoch [60/80], Step [500/500] Loss: 0.1681\n",
            "Epoch [61/80], Step [100/500] Loss: 0.1814\n",
            "Epoch [61/80], Step [200/500] Loss: 0.0792\n",
            "Epoch [61/80], Step [300/500] Loss: 0.1930\n",
            "Epoch [61/80], Step [400/500] Loss: 0.0560\n",
            "Epoch [61/80], Step [500/500] Loss: 0.0753\n",
            "Epoch [62/80], Step [100/500] Loss: 0.0476\n",
            "Epoch [62/80], Step [200/500] Loss: 0.0600\n",
            "Epoch [62/80], Step [300/500] Loss: 0.0397\n",
            "Epoch [62/80], Step [400/500] Loss: 0.1663\n",
            "Epoch [62/80], Step [500/500] Loss: 0.1332\n",
            "Epoch [63/80], Step [100/500] Loss: 0.0592\n",
            "Epoch [63/80], Step [200/500] Loss: 0.1248\n",
            "Epoch [63/80], Step [300/500] Loss: 0.0487\n",
            "Epoch [63/80], Step [400/500] Loss: 0.0899\n",
            "Epoch [63/80], Step [500/500] Loss: 0.1573\n",
            "Epoch [64/80], Step [100/500] Loss: 0.0708\n",
            "Epoch [64/80], Step [200/500] Loss: 0.0240\n",
            "Epoch [64/80], Step [300/500] Loss: 0.1475\n",
            "Epoch [64/80], Step [400/500] Loss: 0.1445\n",
            "Epoch [64/80], Step [500/500] Loss: 0.1094\n",
            "Epoch [65/80], Step [100/500] Loss: 0.1111\n",
            "Epoch [65/80], Step [200/500] Loss: 0.0646\n",
            "Epoch [65/80], Step [300/500] Loss: 0.0889\n",
            "Epoch [65/80], Step [400/500] Loss: 0.0907\n",
            "Epoch [65/80], Step [500/500] Loss: 0.0307\n",
            "Epoch [66/80], Step [100/500] Loss: 0.0259\n",
            "Epoch [66/80], Step [200/500] Loss: 0.2008\n",
            "Epoch [66/80], Step [300/500] Loss: 0.1097\n",
            "Epoch [66/80], Step [400/500] Loss: 0.1591\n",
            "Epoch [66/80], Step [500/500] Loss: 0.0878\n",
            "Epoch [67/80], Step [100/500] Loss: 0.2461\n",
            "Epoch [67/80], Step [200/500] Loss: 0.0989\n",
            "Epoch [67/80], Step [300/500] Loss: 0.1129\n",
            "Epoch [67/80], Step [400/500] Loss: 0.1207\n",
            "Epoch [67/80], Step [500/500] Loss: 0.0520\n",
            "Epoch [68/80], Step [100/500] Loss: 0.0979\n",
            "Epoch [68/80], Step [200/500] Loss: 0.0670\n",
            "Epoch [68/80], Step [300/500] Loss: 0.1310\n",
            "Epoch [68/80], Step [400/500] Loss: 0.1057\n",
            "Epoch [68/80], Step [500/500] Loss: 0.1423\n",
            "Epoch [69/80], Step [100/500] Loss: 0.1052\n",
            "Epoch [69/80], Step [200/500] Loss: 0.0986\n",
            "Epoch [69/80], Step [300/500] Loss: 0.2000\n",
            "Epoch [69/80], Step [400/500] Loss: 0.1590\n",
            "Epoch [69/80], Step [500/500] Loss: 0.0839\n",
            "Epoch [70/80], Step [100/500] Loss: 0.1017\n",
            "Epoch [70/80], Step [200/500] Loss: 0.0694\n",
            "Epoch [70/80], Step [300/500] Loss: 0.0961\n",
            "Epoch [70/80], Step [400/500] Loss: 0.0640\n",
            "Epoch [70/80], Step [500/500] Loss: 0.0652\n",
            "Epoch [71/80], Step [100/500] Loss: 0.0548\n",
            "Epoch [71/80], Step [200/500] Loss: 0.1256\n",
            "Epoch [71/80], Step [300/500] Loss: 0.1304\n",
            "Epoch [71/80], Step [400/500] Loss: 0.0704\n",
            "Epoch [71/80], Step [500/500] Loss: 0.0510\n",
            "Epoch [72/80], Step [100/500] Loss: 0.0937\n",
            "Epoch [72/80], Step [200/500] Loss: 0.0784\n",
            "Epoch [72/80], Step [300/500] Loss: 0.0478\n",
            "Epoch [72/80], Step [400/500] Loss: 0.1349\n",
            "Epoch [72/80], Step [500/500] Loss: 0.0390\n",
            "Epoch [73/80], Step [100/500] Loss: 0.0465\n",
            "Epoch [73/80], Step [200/500] Loss: 0.0407\n",
            "Epoch [73/80], Step [300/500] Loss: 0.0894\n",
            "Epoch [73/80], Step [400/500] Loss: 0.0619\n",
            "Epoch [73/80], Step [500/500] Loss: 0.0477\n",
            "Epoch [74/80], Step [100/500] Loss: 0.1170\n",
            "Epoch [74/80], Step [200/500] Loss: 0.0505\n",
            "Epoch [74/80], Step [300/500] Loss: 0.0879\n",
            "Epoch [74/80], Step [400/500] Loss: 0.0934\n",
            "Epoch [74/80], Step [500/500] Loss: 0.1518\n",
            "Epoch [75/80], Step [100/500] Loss: 0.1039\n",
            "Epoch [75/80], Step [200/500] Loss: 0.1082\n",
            "Epoch [75/80], Step [300/500] Loss: 0.1157\n",
            "Epoch [75/80], Step [400/500] Loss: 0.0536\n",
            "Epoch [75/80], Step [500/500] Loss: 0.1101\n",
            "Epoch [76/80], Step [100/500] Loss: 0.1041\n",
            "Epoch [76/80], Step [200/500] Loss: 0.0272\n",
            "Epoch [76/80], Step [300/500] Loss: 0.0686\n",
            "Epoch [76/80], Step [400/500] Loss: 0.1076\n",
            "Epoch [76/80], Step [500/500] Loss: 0.1319\n",
            "Epoch [77/80], Step [100/500] Loss: 0.0802\n",
            "Epoch [77/80], Step [200/500] Loss: 0.1348\n",
            "Epoch [77/80], Step [300/500] Loss: 0.0936\n",
            "Epoch [77/80], Step [400/500] Loss: 0.1202\n",
            "Epoch [77/80], Step [500/500] Loss: 0.1198\n",
            "Epoch [78/80], Step [100/500] Loss: 0.1606\n",
            "Epoch [78/80], Step [200/500] Loss: 0.1394\n",
            "Epoch [78/80], Step [300/500] Loss: 0.0758\n",
            "Epoch [78/80], Step [400/500] Loss: 0.0569\n",
            "Epoch [78/80], Step [500/500] Loss: 0.1509\n",
            "Epoch [79/80], Step [100/500] Loss: 0.0910\n",
            "Epoch [79/80], Step [200/500] Loss: 0.0600\n",
            "Epoch [79/80], Step [300/500] Loss: 0.0423\n",
            "Epoch [79/80], Step [400/500] Loss: 0.1040\n",
            "Epoch [79/80], Step [500/500] Loss: 0.0690\n",
            "Epoch [80/80], Step [100/500] Loss: 0.0893\n",
            "Epoch [80/80], Step [200/500] Loss: 0.0668\n",
            "Epoch [80/80], Step [300/500] Loss: 0.1201\n",
            "Epoch [80/80], Step [400/500] Loss: 0.0999\n",
            "Epoch [80/80], Step [500/500] Loss: 0.0636\n"
          ],
          "name": "stdout"
        }
      ]
    },
    {
      "cell_type": "markdown",
      "metadata": {
        "id": "rIRxKl8iC7l9"
      },
      "source": [
        "## Test the model"
      ]
    },
    {
      "cell_type": "code",
      "metadata": {
        "colab": {
          "base_uri": "https://localhost:8080/"
        },
        "id": "AGtANzZO9rgf",
        "outputId": "584fd112-a544-4eaa-f3f2-9a55f97e6e3c"
      },
      "source": [
        "# Test the model\n",
        "model.eval()\n",
        "with torch.no_grad():\n",
        "    correct = 0\n",
        "    total = 0\n",
        "    for images, labels in test_loader:\n",
        "        images = images.to(device)\n",
        "        labels = labels.to(device)\n",
        "        outputs = model(images)\n",
        "        _, predicted = torch.max(outputs.data, 1)\n",
        "        total += labels.size(0)\n",
        "        correct += (predicted == labels).sum().item()\n",
        "\n",
        "    print('Accuracy of the model on the test images: {} %'.format(100 * correct / total))"
      ],
      "execution_count": 33,
      "outputs": [
        {
          "output_type": "stream",
          "text": [
            "Accuracy of the model on the test images: 88.75 %\n"
          ],
          "name": "stdout"
        }
      ]
    },
    {
      "cell_type": "code",
      "metadata": {
        "id": "n0CRqevXC_5o"
      },
      "source": [
        "# Save the model checkpoint\n",
        "torch.save(model.state_dict(), 'resnet.ckpt')"
      ],
      "execution_count": 34,
      "outputs": []
    },
    {
      "cell_type": "code",
      "metadata": {
        "id": "16ny62FOJjFB"
      },
      "source": [
        ""
      ],
      "execution_count": null,
      "outputs": []
    }
  ]
}
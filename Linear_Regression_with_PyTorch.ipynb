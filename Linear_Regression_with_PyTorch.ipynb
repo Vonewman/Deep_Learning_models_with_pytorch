{
  "nbformat": 4,
  "nbformat_minor": 0,
  "metadata": {
    "colab": {
      "name": "Linear Regression with PyTorch.ipynb",
      "provenance": [],
      "collapsed_sections": [],
      "authorship_tag": "ABX9TyPgL5WE4jt3CkY5UmbwG6W1",
      "include_colab_link": true
    },
    "kernelspec": {
      "name": "python3",
      "display_name": "Python 3"
    },
    "accelerator": "GPU"
  },
  "cells": [
    {
      "cell_type": "markdown",
      "metadata": {
        "id": "view-in-github",
        "colab_type": "text"
      },
      "source": [
        "<a href=\"https://colab.research.google.com/github/Vonewman/Deep_Learning_models_with_pytorch/blob/master/Linear_Regression_with_PyTorch.ipynb\" target=\"_parent\"><img src=\"https://colab.research.google.com/assets/colab-badge.svg\" alt=\"Open In Colab\"/></a>"
      ]
    },
    {
      "cell_type": "code",
      "metadata": {
        "colab": {
          "base_uri": "https://localhost:8080/",
          "height": 265
        },
        "id": "e60zAV3bmjl2",
        "outputId": "287158a0-e7fe-40d2-c6c8-c0cf5bd3596e"
      },
      "source": [
        "import numpy as np\n",
        "import matplotlib.pyplot as plt\n",
        "\n",
        "np.random.seed(1)\n",
        "n = 50\n",
        "x = np.random.randn(n)\n",
        "y = x * np.random.randn(n)\n",
        "\n",
        "colors = np.random.randn(n)\n",
        "plt.plot(np.unique(x), np.poly1d(np.polyfit(x, y, 1))(np.unique(x)))\n",
        "\n",
        "plt.scatter(x, y, c=colors, alpha=0.5)\n",
        "plt.show()"
      ],
      "execution_count": 107,
      "outputs": [
        {
          "output_type": "display_data",
          "data": {
            "image/png": "[encoded data removed]",
            "text/plain": [
              "<Figure size 432x288 with 1 Axes>"
            ]
          },
          "metadata": {
            "tags": [],
            "needs_background": "light"
          }
        }
      ]
    },
    {
      "cell_type": "markdown",
      "metadata": {
        "id": "vwT_EmLkrIwD"
      },
      "source": [
        "# Linear Regression in PyTorch"
      ]
    },
    {
      "cell_type": "code",
      "metadata": {
        "id": "JcvwZNMWqldn"
      },
      "source": [
        "x_values = [i for i in range(11)]"
      ],
      "execution_count": 108,
      "outputs": []
    },
    {
      "cell_type": "code",
      "metadata": {
        "colab": {
          "base_uri": "https://localhost:8080/"
        },
        "id": "vPnrMM4mrQmE",
        "outputId": "0483d2ab-f7a3-4600-dbdd-06f33776dec3"
      },
      "source": [
        "x_values"
      ],
      "execution_count": 109,
      "outputs": [
        {
          "output_type": "execute_result",
          "data": {
            "text/plain": [
              "[0, 1, 2, 3, 4, 5, 6, 7, 8, 9, 10]"
            ]
          },
          "metadata": {
            "tags": []
          },
          "execution_count": 109
        }
      ]
    },
    {
      "cell_type": "code",
      "metadata": {
        "colab": {
          "base_uri": "https://localhost:8080/"
        },
        "id": "0OHj-0hQr0AK",
        "outputId": "99cf227a-3141-4689-8426-de92e96bf5eb"
      },
      "source": [
        "# Convert to numpy\n",
        "x_train = np.array(x_values, dtype=np.float32)\n",
        "x_train.shape"
      ],
      "execution_count": 110,
      "outputs": [
        {
          "output_type": "execute_result",
          "data": {
            "text/plain": [
              "(11,)"
            ]
          },
          "metadata": {
            "tags": []
          },
          "execution_count": 110
        }
      ]
    },
    {
      "cell_type": "code",
      "metadata": {
        "colab": {
          "base_uri": "https://localhost:8080/"
        },
        "id": "vHO5-qe2tR28",
        "outputId": "98c470ca-c034-425c-aef4-594058485d00"
      },
      "source": [
        "# IMPORTANT: 2D required\n",
        "x_train = x_train.reshape(-1, 1)\n",
        "x_train.shape"
      ],
      "execution_count": 111,
      "outputs": [
        {
          "output_type": "execute_result",
          "data": {
            "text/plain": [
              "(11, 1)"
            ]
          },
          "metadata": {
            "tags": []
          },
          "execution_count": 111
        }
      ]
    },
    {
      "cell_type": "code",
      "metadata": {
        "id": "HnHmRD3ztVd4"
      },
      "source": [
        "y_values = [2*i + 1 for i in x_values]"
      ],
      "execution_count": 112,
      "outputs": []
    },
    {
      "cell_type": "code",
      "metadata": {
        "colab": {
          "base_uri": "https://localhost:8080/"
        },
        "id": "hXp5LkUbt4A3",
        "outputId": "3beeff65-5720-416f-a78b-fb02fcf91bef"
      },
      "source": [
        "y_values"
      ],
      "execution_count": 113,
      "outputs": [
        {
          "output_type": "execute_result",
          "data": {
            "text/plain": [
              "[1, 3, 5, 7, 9, 11, 13, 15, 17, 19, 21]"
            ]
          },
          "metadata": {
            "tags": []
          },
          "execution_count": 113
        }
      ]
    },
    {
      "cell_type": "code",
      "metadata": {
        "colab": {
          "base_uri": "https://localhost:8080/"
        },
        "id": "cH4PGUNwt5lk",
        "outputId": "482de94b-c0b4-45ec-ebc4-00b54a542a34"
      },
      "source": [
        "y_train = np.array(y_values, dtype=np.float32)\n",
        "y_train.shape"
      ],
      "execution_count": 114,
      "outputs": [
        {
          "output_type": "execute_result",
          "data": {
            "text/plain": [
              "(11,)"
            ]
          },
          "metadata": {
            "tags": []
          },
          "execution_count": 114
        }
      ]
    },
    {
      "cell_type": "code",
      "metadata": {
        "colab": {
          "base_uri": "https://localhost:8080/"
        },
        "id": "b3HUW_ptuR1q",
        "outputId": "85969977-baff-48a8-ea57-ecaad58e222a"
      },
      "source": [
        "# IMPORTANT: 2D required\n",
        "y_train = y_train.reshape(-1, 1)\n",
        "y_train.shape"
      ],
      "execution_count": 115,
      "outputs": [
        {
          "output_type": "execute_result",
          "data": {
            "text/plain": [
              "(11, 1)"
            ]
          },
          "metadata": {
            "tags": []
          },
          "execution_count": 115
        }
      ]
    },
    {
      "cell_type": "code",
      "metadata": {
        "id": "YsBZ7nd-vvCc"
      },
      "source": [
        "import torch\n",
        "import torch.nn as nn\n",
        "from torch.autograd import Variable"
      ],
      "execution_count": 116,
      "outputs": []
    },
    {
      "cell_type": "code",
      "metadata": {
        "id": "YbvXSBYAwONF"
      },
      "source": [
        "class LinearRegressionModel(nn.Module):\n",
        "    def __init__(self, input_size, output_size):\n",
        "        super(LinearRegressionModel, self).__init__()\n",
        "        self.linear = nn.Linear(input_dim, output_dim)\n",
        "\n",
        "    def forward(self, x):\n",
        "        out = self.linear(x)\n",
        "        return out"
      ],
      "execution_count": 117,
      "outputs": []
    },
    {
      "cell_type": "code",
      "metadata": {
        "id": "425yyrZ5yAti"
      },
      "source": [
        "input_dim = 1\n",
        "output_dim = 1\n",
        "\n",
        "model = LinearRegressionModel(input_dim, output_dim)"
      ],
      "execution_count": 118,
      "outputs": []
    },
    {
      "cell_type": "code",
      "metadata": {
        "id": "zX7xUJgVyQ8J"
      },
      "source": [
        "criterion = nn.MSELoss()"
      ],
      "execution_count": 119,
      "outputs": []
    },
    {
      "cell_type": "code",
      "metadata": {
        "id": "vQmdq2OmyUjh"
      },
      "source": [
        "learning_rate = 0.01\n",
        "\n",
        "optimizer = torch.optim.SGD(model.parameters(), lr=learning_rate)"
      ],
      "execution_count": 120,
      "outputs": []
    },
    {
      "cell_type": "code",
      "metadata": {
        "id": "xYwZZtfvyrVg"
      },
      "source": [
        "epochs = 100"
      ],
      "execution_count": 121,
      "outputs": []
    },
    {
      "cell_type": "code",
      "metadata": {
        "colab": {
          "base_uri": "https://localhost:8080/"
        },
        "id": "ip9s20kiywGq",
        "outputId": "87875a51-61b9-45ec-ba07-3f4dc9cd491a"
      },
      "source": [
        "for epoch in range(epochs):\n",
        "    epoch += 1\n",
        "    # Convert numpy array to torch Variable\n",
        "    inputs = Variable(torch.from_numpy(x_train))\n",
        "    labels = Variable(torch.from_numpy(y_train))\n",
        "    \n",
        "    # Clear gradients w.r.t. parameters\n",
        "    optimizer.zero_grad()\n",
        "    \n",
        "    # Forward to get output\n",
        "    outputs = model(inputs)\n",
        "    \n",
        "    # Calculate Loss\n",
        "    loss = criterion(outputs, labels)\n",
        "    \n",
        "    # Getting gradients w.r.t. parameters\n",
        "    loss.backward()\n",
        "    \n",
        "    # Updating parameters\n",
        "    optimizer.step()\n",
        "    \n",
        "    print('epoch {} '.format(epoch), 'loss %.3f%%' % (loss.item() * 100))"
      ],
      "execution_count": 122,
      "outputs": [
        {
          "output_type": "stream",
          "text": [
            "epoch 1  loss 23592.821%\n",
            "epoch 2  loss 1924.399%\n",
            "epoch 3  loss 156.974%\n",
            "epoch 4  loss 12.811%\n",
            "epoch 5  loss 1.052%\n",
            "epoch 6  loss 0.093%\n",
            "epoch 7  loss 0.015%\n",
            "epoch 8  loss 0.008%\n",
            "epoch 9  loss 0.007%\n",
            "epoch 10  loss 0.007%\n",
            "epoch 11  loss 0.007%\n",
            "epoch 12  loss 0.007%\n",
            "epoch 13  loss 0.007%\n",
            "epoch 14  loss 0.007%\n",
            "epoch 15  loss 0.007%\n",
            "epoch 16  loss 0.007%\n",
            "epoch 17  loss 0.007%\n",
            "epoch 18  loss 0.007%\n",
            "epoch 19  loss 0.007%\n",
            "epoch 20  loss 0.007%\n",
            "epoch 21  loss 0.006%\n",
            "epoch 22  loss 0.006%\n",
            "epoch 23  loss 0.006%\n",
            "epoch 24  loss 0.006%\n",
            "epoch 25  loss 0.006%\n",
            "epoch 26  loss 0.006%\n",
            "epoch 27  loss 0.006%\n",
            "epoch 28  loss 0.006%\n",
            "epoch 29  loss 0.006%\n",
            "epoch 30  loss 0.006%\n",
            "epoch 31  loss 0.006%\n",
            "epoch 32  loss 0.006%\n",
            "epoch 33  loss 0.006%\n",
            "epoch 34  loss 0.006%\n",
            "epoch 35  loss 0.006%\n",
            "epoch 36  loss 0.005%\n",
            "epoch 37  loss 0.005%\n",
            "epoch 38  loss 0.005%\n",
            "epoch 39  loss 0.005%\n",
            "epoch 40  loss 0.005%\n",
            "epoch 41  loss 0.005%\n",
            "epoch 42  loss 0.005%\n",
            "epoch 43  loss 0.005%\n",
            "epoch 44  loss 0.005%\n",
            "epoch 45  loss 0.005%\n",
            "epoch 46  loss 0.005%\n",
            "epoch 47  loss 0.005%\n",
            "epoch 48  loss 0.005%\n",
            "epoch 49  loss 0.005%\n",
            "epoch 50  loss 0.005%\n",
            "epoch 51  loss 0.005%\n",
            "epoch 52  loss 0.005%\n",
            "epoch 53  loss 0.005%\n",
            "epoch 54  loss 0.004%\n",
            "epoch 55  loss 0.004%\n",
            "epoch 56  loss 0.004%\n",
            "epoch 57  loss 0.004%\n",
            "epoch 58  loss 0.004%\n",
            "epoch 59  loss 0.004%\n",
            "epoch 60  loss 0.004%\n",
            "epoch 61  loss 0.004%\n",
            "epoch 62  loss 0.004%\n",
            "epoch 63  loss 0.004%\n",
            "epoch 64  loss 0.004%\n",
            "epoch 65  loss 0.004%\n",
            "epoch 66  loss 0.004%\n",
            "epoch 67  loss 0.004%\n",
            "epoch 68  loss 0.004%\n",
            "epoch 69  loss 0.004%\n",
            "epoch 70  loss 0.004%\n",
            "epoch 71  loss 0.004%\n",
            "epoch 72  loss 0.004%\n",
            "epoch 73  loss 0.004%\n",
            "epoch 74  loss 0.004%\n",
            "epoch 75  loss 0.004%\n",
            "epoch 76  loss 0.003%\n",
            "epoch 77  loss 0.003%\n",
            "epoch 78  loss 0.003%\n",
            "epoch 79  loss 0.003%\n",
            "epoch 80  loss 0.003%\n",
            "epoch 81  loss 0.003%\n",
            "epoch 82  loss 0.003%\n",
            "epoch 83  loss 0.003%\n",
            "epoch 84  loss 0.003%\n",
            "epoch 85  loss 0.003%\n",
            "epoch 86  loss 0.003%\n",
            "epoch 87  loss 0.003%\n",
            "epoch 88  loss 0.003%\n",
            "epoch 89  loss 0.003%\n",
            "epoch 90  loss 0.003%\n",
            "epoch 91  loss 0.003%\n",
            "epoch 92  loss 0.003%\n",
            "epoch 93  loss 0.003%\n",
            "epoch 94  loss 0.003%\n",
            "epoch 95  loss 0.003%\n",
            "epoch 96  loss 0.003%\n",
            "epoch 97  loss 0.003%\n",
            "epoch 98  loss 0.003%\n",
            "epoch 99  loss 0.003%\n",
            "epoch 100  loss 0.003%\n"
          ],
          "name": "stdout"
        }
      ]
    },
    {
      "cell_type": "code",
      "metadata": {
        "colab": {
          "base_uri": "https://localhost:8080/"
        },
        "id": "9wSrAK_PzdhG",
        "outputId": "2a727d67-d8e0-416b-f131-2b03e9367cae"
      },
      "source": [
        "# Purely inference\n",
        "predicted = model(Variable(torch.from_numpy(x_train))).data.numpy()\n",
        "predicted"
      ],
      "execution_count": 123,
      "outputs": [
        {
          "output_type": "execute_result",
          "data": {
            "text/plain": [
              "array([[ 0.9904093],\n",
              "       [ 2.9917905],\n",
              "       [ 4.9931717],\n",
              "       [ 6.994553 ],\n",
              "       [ 8.995934 ],\n",
              "       [10.997314 ],\n",
              "       [12.998696 ],\n",
              "       [15.000077 ],\n",
              "       [17.00146  ],\n",
              "       [19.00284  ],\n",
              "       [21.004221 ]], dtype=float32)"
            ]
          },
          "metadata": {
            "tags": []
          },
          "execution_count": 123
        }
      ]
    },
    {
      "cell_type": "code",
      "metadata": {
        "colab": {
          "base_uri": "https://localhost:8080/"
        },
        "id": "eqYN082A0ty9",
        "outputId": "0f945028-cda9-4564-c68b-0f231b9e9d9d"
      },
      "source": [
        "# y = 2x + 1\n",
        "y_train"
      ],
      "execution_count": 124,
      "outputs": [
        {
          "output_type": "execute_result",
          "data": {
            "text/plain": [
              "array([[ 1.],\n",
              "       [ 3.],\n",
              "       [ 5.],\n",
              "       [ 7.],\n",
              "       [ 9.],\n",
              "       [11.],\n",
              "       [13.],\n",
              "       [15.],\n",
              "       [17.],\n",
              "       [19.],\n",
              "       [21.]], dtype=float32)"
            ]
          },
          "metadata": {
            "tags": []
          },
          "execution_count": 124
        }
      ]
    },
    {
      "cell_type": "code",
      "metadata": {
        "colab": {
          "base_uri": "https://localhost:8080/",
          "height": 265
        },
        "id": "j6-VOtof0zAS",
        "outputId": "ac233788-3e39-4c41-e202-d4d2b008ba1f"
      },
      "source": [
        "# Clear figure\n",
        "plt.clf()\n",
        "\n",
        "# Get predictions\n",
        "predicted = model(Variable(torch.from_numpy(x_train))).data.numpy()\n",
        "\n",
        "# Plot true data\n",
        "plt.plot(x_train, y_train, 'go', label='True data', alpha=0.5)\n",
        "\n",
        "# Plot predictions\n",
        "plt.plot(x_train, predicted, '--', label='Predictions', alpha=0.5)\n",
        "\n",
        "# Legend and plot\n",
        "plt.legend(loc='best')\n",
        "plt.show()"
      ],
      "execution_count": 125,
      "outputs": [
        {
          "output_type": "display_data",
          "data": {
            "image/png": "[encoded data removed]",
            "text/plain": [
              "<Figure size 432x288 with 1 Axes>"
            ]
          },
          "metadata": {
            "tags": [],
            "needs_background": "light"
          }
        }
      ]
    },
    {
      "cell_type": "code",
      "metadata": {
        "id": "PyP5tXKU03Tb"
      },
      "source": [
        "save_model = False\n",
        "if save_model is True:\n",
        "    # Saves only parameters\n",
        "    # alpha & beta\n",
        "    torch.save(model.state_dict(), 'awesome_model.pkl')"
      ],
      "execution_count": 126,
      "outputs": []
    },
    {
      "cell_type": "code",
      "metadata": {
        "id": "eBTt0xAe4XvB"
      },
      "source": [
        "load_model = False\n",
        "if load_model is True:\n",
        "    model.load_state_dict(torch.load('awesome_model.pkl'))"
      ],
      "execution_count": 127,
      "outputs": []
    },
    {
      "cell_type": "markdown",
      "metadata": {
        "id": "YDbA3FCx6ucv"
      },
      "source": [
        "# Linear Regression From CPU to GPU in PyTorch"
      ]
    },
    {
      "cell_type": "code",
      "metadata": {
        "id": "DvObWm745rq-"
      },
      "source": [
        "import torch\n",
        "import torch.nn as nn\n",
        "from torch.autograd import Variable\n",
        "\n",
        "'''\n",
        "STEP 1: CREATE MODEL CLASS\n",
        "'''\n",
        "class LinearRegressionModel(nn.Module):\n",
        "    def __init__(self, input_size, output_size):\n",
        "        super(LinearRegressionModel, self).__init__()\n",
        "        self.linear = nn.Linear(input_dim, output_dim)\n",
        "        \n",
        "    def forward(self, x):\n",
        "        out = self.linear(x)\n",
        "        return out\n",
        "    \n",
        "'''\n",
        "STEP 2: INSTANTIATE MODEL CLASS\n",
        "'''\n",
        "input_dim = 1\n",
        "output_dim = 1\n",
        "\n",
        "model = LinearRegressionModel(input_dim, output_dim)\n",
        "\n",
        "'''\n",
        "STEP 3: INSTANTIATE LOSS CLASS\n",
        "'''\n",
        "\n",
        "criterion = nn.MSELoss()\n",
        "\n",
        "'''\n",
        "STEP 4: INSTANTIATE OPTIMIZER CLASS\n",
        "'''\n",
        "\n",
        "learning_rate = 0.01\n",
        "\n",
        "optimizer = torch.optim.SGD(model.parameters(), lr=learning_rate)\n",
        "\n",
        "'''\n",
        "STEP 5: TRAIN THE MODEL\n",
        "'''\n",
        "epochs = 100\n",
        "for epoch in range(epochs):\n",
        "    epoch += 1\n",
        "    # Convert numpy array to torch Variable\n",
        "    inputs = Variable(torch.from_numpy(x_train))\n",
        "    labels = Variable(torch.from_numpy(y_train))\n",
        "    \n",
        "    # Clear gradients w.r.t. parameters\n",
        "    optimizer.zero_grad()\n",
        "    \n",
        "    # Forward to get output\n",
        "    outputs = model(inputs)\n",
        "    \n",
        "    # Calculate Loss\n",
        "    loss = criterion(outputs, labels)\n",
        "    \n",
        "    # Getting gradients w.r.t. parameters\n",
        "    loss.backward()\n",
        "    \n",
        "    # Updating parameters\n",
        "    optimizer.step()"
      ],
      "execution_count": 128,
      "outputs": []
    },
    {
      "cell_type": "code",
      "metadata": {
        "colab": {
          "base_uri": "https://localhost:8080/"
        },
        "id": "MmdxlwOd7TXE",
        "outputId": "a8736f60-8d06-43f9-de60-630c56bd42e6"
      },
      "source": [
        "import torch\n",
        "import torch.nn as nn\n",
        "from torch.autograd import Variable\n",
        "import numpy as np\n",
        "\n",
        "'''\n",
        "STEP 1: CREATE MODEL CLASS\n",
        "'''\n",
        "class LinearRegressionModel(nn.Module):\n",
        "    def __init__(self, input_size, output_size):\n",
        "        super(LinearRegressionModel, self).__init__()\n",
        "        self.linear = nn.Linear(input_dim, output_dim)\n",
        "        \n",
        "    def forward(self, x):\n",
        "        out = self.linear(x)\n",
        "        return out\n",
        "    \n",
        "'''\n",
        "STEP 2: INSTANTIATE MODEL CLASS\n",
        "'''\n",
        "input_dim = 1\n",
        "output_dim = 1\n",
        "\n",
        "model = LinearRegressionModel(input_dim, output_dim)\n",
        "\n",
        "\n",
        "#######################\n",
        "#  USE GPU FOR MODEL  #\n",
        "#######################\n",
        "\n",
        "if torch.cuda.is_available():\n",
        "    model.cuda()\n",
        "\n",
        "'''\n",
        "STEP 3: INSTANTIATE LOSS CLASS\n",
        "'''\n",
        "\n",
        "criterion = nn.MSELoss()\n",
        "\n",
        "'''\n",
        "STEP 4: INSTANTIATE OPTIMIZER CLASS\n",
        "'''\n",
        "\n",
        "learning_rate = 0.01\n",
        "\n",
        "optimizer = torch.optim.SGD(model.parameters(), lr=learning_rate)\n",
        "\n",
        "'''\n",
        "STEP 5: TRAIN THE MODEL\n",
        "'''\n",
        "epochs = 100\n",
        "for epoch in range(epochs):\n",
        "    epoch += 1\n",
        "    # Convert numpy array to torch Variable\n",
        "    \n",
        "    #######################\n",
        "    #  USE GPU FOR MODEL  #\n",
        "    #######################\n",
        "    if torch.cuda.is_available():\n",
        "        inputs = Variable(torch.from_numpy(x_train).cuda())\n",
        "        labels = Variable(torch.from_numpy(y_train).cuda())\n",
        "    else:\n",
        "        inputs = Variable(torch.from_numpy(x_train))\n",
        "        labels = Variable(torch.from_numpy(y_train))\n",
        "    \n",
        "    # Clear gradients w.r.t. parameters\n",
        "    optimizer.zero_grad()\n",
        "    \n",
        "    # Forward to get output\n",
        "    outputs = model(inputs)\n",
        "    \n",
        "    # Calculate Loss\n",
        "    loss = criterion(outputs, labels)\n",
        "    \n",
        "    # Getting gradients w.r.t. parameters\n",
        "    loss.backward()\n",
        "    \n",
        "    # Updating parameters\n",
        "    optimizer.step()\n",
        "    \n",
        "    # Logging\n",
        "    print('epoch {}'.format(epoch), 'loss %.3f%%' % (loss.item() * 100))"
      ],
      "execution_count": 129,
      "outputs": [
        {
          "output_type": "stream",
          "text": [
            "epoch 1 loss 18346.727%\n",
            "epoch 2 loss 1497.358%\n",
            "epoch 3 loss 122.998%\n",
            "epoch 4 loss 10.887%\n",
            "epoch 5 loss 1.732%\n",
            "epoch 6 loss 0.976%\n",
            "epoch 7 loss 0.905%\n",
            "epoch 8 loss 0.890%\n",
            "epoch 9 loss 0.880%\n",
            "epoch 10 loss 0.870%\n",
            "epoch 11 loss 0.860%\n",
            "epoch 12 loss 0.851%\n",
            "epoch 13 loss 0.841%\n",
            "epoch 14 loss 0.832%\n",
            "epoch 15 loss 0.823%\n",
            "epoch 16 loss 0.813%\n",
            "epoch 17 loss 0.804%\n",
            "epoch 18 loss 0.795%\n",
            "epoch 19 loss 0.787%\n",
            "epoch 20 loss 0.778%\n",
            "epoch 21 loss 0.769%\n",
            "epoch 22 loss 0.760%\n",
            "epoch 23 loss 0.752%\n",
            "epoch 24 loss 0.744%\n",
            "epoch 25 loss 0.735%\n",
            "epoch 26 loss 0.727%\n",
            "epoch 27 loss 0.719%\n",
            "epoch 28 loss 0.711%\n",
            "epoch 29 loss 0.703%\n",
            "epoch 30 loss 0.695%\n",
            "epoch 31 loss 0.687%\n",
            "epoch 32 loss 0.680%\n",
            "epoch 33 loss 0.672%\n",
            "epoch 34 loss 0.665%\n",
            "epoch 35 loss 0.657%\n",
            "epoch 36 loss 0.650%\n",
            "epoch 37 loss 0.643%\n",
            "epoch 38 loss 0.635%\n",
            "epoch 39 loss 0.628%\n",
            "epoch 40 loss 0.621%\n",
            "epoch 41 loss 0.614%\n",
            "epoch 42 loss 0.607%\n",
            "epoch 43 loss 0.601%\n",
            "epoch 44 loss 0.594%\n",
            "epoch 45 loss 0.587%\n",
            "epoch 46 loss 0.581%\n",
            "epoch 47 loss 0.574%\n",
            "epoch 48 loss 0.568%\n",
            "epoch 49 loss 0.562%\n",
            "epoch 50 loss 0.555%\n",
            "epoch 51 loss 0.549%\n",
            "epoch 52 loss 0.543%\n",
            "epoch 53 loss 0.537%\n",
            "epoch 54 loss 0.531%\n",
            "epoch 55 loss 0.525%\n",
            "epoch 56 loss 0.519%\n",
            "epoch 57 loss 0.513%\n",
            "epoch 58 loss 0.508%\n",
            "epoch 59 loss 0.502%\n",
            "epoch 60 loss 0.496%\n",
            "epoch 61 loss 0.491%\n",
            "epoch 62 loss 0.485%\n",
            "epoch 63 loss 0.480%\n",
            "epoch 64 loss 0.475%\n",
            "epoch 65 loss 0.469%\n",
            "epoch 66 loss 0.464%\n",
            "epoch 67 loss 0.459%\n",
            "epoch 68 loss 0.454%\n",
            "epoch 69 loss 0.449%\n",
            "epoch 70 loss 0.444%\n",
            "epoch 71 loss 0.439%\n",
            "epoch 72 loss 0.434%\n",
            "epoch 73 loss 0.429%\n",
            "epoch 74 loss 0.424%\n",
            "epoch 75 loss 0.419%\n",
            "epoch 76 loss 0.415%\n",
            "epoch 77 loss 0.410%\n",
            "epoch 78 loss 0.405%\n",
            "epoch 79 loss 0.401%\n",
            "epoch 80 loss 0.396%\n",
            "epoch 81 loss 0.392%\n",
            "epoch 82 loss 0.388%\n",
            "epoch 83 loss 0.383%\n",
            "epoch 84 loss 0.379%\n",
            "epoch 85 loss 0.375%\n",
            "epoch 86 loss 0.371%\n",
            "epoch 87 loss 0.366%\n",
            "epoch 88 loss 0.362%\n",
            "epoch 89 loss 0.358%\n",
            "epoch 90 loss 0.354%\n",
            "epoch 91 loss 0.350%\n",
            "epoch 92 loss 0.346%\n",
            "epoch 93 loss 0.343%\n",
            "epoch 94 loss 0.339%\n",
            "epoch 95 loss 0.335%\n",
            "epoch 96 loss 0.331%\n",
            "epoch 97 loss 0.328%\n",
            "epoch 98 loss 0.324%\n",
            "epoch 99 loss 0.320%\n",
            "epoch 100 loss 0.317%\n"
          ],
          "name": "stdout"
        }
      ]
    },
    {
      "cell_type": "code",
      "metadata": {
        "id": "kMtJ0Aso8Yiv"
      },
      "source": [
        ""
      ],
      "execution_count": 129,
      "outputs": []
    }
  ]
}
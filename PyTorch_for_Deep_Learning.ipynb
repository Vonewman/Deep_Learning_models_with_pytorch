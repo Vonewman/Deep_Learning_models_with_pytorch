{
  "nbformat": 4,
  "nbformat_minor": 0,
  "metadata": {
    "colab": {
      "name": "PyTorch for Deep Learning.ipynb",
      "provenance": [],
      "authorship_tag": "ABX9TyPXpdHMLjv9e3jvDDRXYTFE",
      "include_colab_link": true
    },
    "kernelspec": {
      "name": "python3",
      "display_name": "Python 3"
    }
  },
  "cells": [
    {
      "cell_type": "markdown",
      "metadata": {
        "id": "view-in-github",
        "colab_type": "text"
      },
      "source": [
        "<a href=\"https://colab.research.google.com/github/Vonewman/Deep_Learning_models_with_pytorch/blob/master/PyTorch_for_Deep_Learning.ipynb\" target=\"_parent\"><img src=\"https://colab.research.google.com/assets/colab-badge.svg\" alt=\"Open In Colab\"/></a>"
      ]
    },
    {
      "cell_type": "code",
      "metadata": {
        "id": "41LRNqt7C6gl"
      },
      "source": [
        "import numpy as np\n",
        "import pandas as pd\n",
        "import matplotlib.pyplot as plt"
      ],
      "execution_count": 1,
      "outputs": []
    },
    {
      "cell_type": "code",
      "metadata": {
        "colab": {
          "base_uri": "https://localhost:8080/"
        },
        "id": "hJOPcldrFAdm",
        "outputId": "588e2394-b0bd-462b-de52-10ee8a89ba40"
      },
      "source": [
        "# import numpy library\n",
        "import numpy as np\n",
        "\n",
        "# numpy array\n",
        "array = [[1,2,3],[4,5,6]]\n",
        "first_array = np.array(array) # 2x3 array\n",
        "print(\"Array Type: {}\".format(type(first_array))) # type\n",
        "print(\"Array Shape: {}\".format(np.shape(first_array))) # shape\n",
        "print(first_array)"
      ],
      "execution_count": 2,
      "outputs": [
        {
          "output_type": "stream",
          "text": [
            "Array Type: <class 'numpy.ndarray'>\n",
            "Array Shape: (2, 3)\n",
            "[[1 2 3]\n",
            " [4 5 6]]\n"
          ],
          "name": "stdout"
        }
      ]
    },
    {
      "cell_type": "code",
      "metadata": {
        "colab": {
          "base_uri": "https://localhost:8080/"
        },
        "id": "6FF22ATAO8Cd",
        "outputId": "a519b65e-5a1c-42f5-ea15-1d864c93df0c"
      },
      "source": [
        "import torch\n",
        "\n",
        "# pytorch array\n",
        "tensor = torch.Tensor(array)\n",
        "print(\"Array Type: {}\".format(tensor.type)) # type\n",
        "print(\"Array Shape: {}\".format(tensor.shape)) # shape\n",
        "print(tensor)"
      ],
      "execution_count": 3,
      "outputs": [
        {
          "output_type": "stream",
          "text": [
            "Array Type: <built-in method type of Tensor object at 0x7fcb47cf7870>\n",
            "Array Shape: torch.Size([2, 3])\n",
            "tensor([[1., 2., 3.],\n",
            "        [4., 5., 6.]])\n"
          ],
          "name": "stdout"
        }
      ]
    },
    {
      "cell_type": "code",
      "metadata": {
        "colab": {
          "base_uri": "https://localhost:8080/"
        },
        "id": "kMC6DEEfQNAn",
        "outputId": "44bf6d42-e737-4abc-c1df-036a6102aad3"
      },
      "source": [
        "# numpy ones\n",
        "print(\"Numpy {}\\n\".format(np.ones((2,3))))\n",
        "\n",
        "# pytorch ones\n",
        "print(torch.ones((2,3)))"
      ],
      "execution_count": 4,
      "outputs": [
        {
          "output_type": "stream",
          "text": [
            "Numpy [[1. 1. 1.]\n",
            " [1. 1. 1.]]\n",
            "\n",
            "tensor([[1., 1., 1.],\n",
            "        [1., 1., 1.]])\n"
          ],
          "name": "stdout"
        }
      ]
    },
    {
      "cell_type": "code",
      "metadata": {
        "colab": {
          "base_uri": "https://localhost:8080/"
        },
        "id": "l9D0U2k4RCY1",
        "outputId": "b3e5dd99-4f3a-4bf0-f487-954843b6e2d7"
      },
      "source": [
        "# numpy random\n",
        "print(\"Numpy {}\\n\".format(np.random.rand(2,3)))\n",
        "\n",
        "# pytorch random\n",
        "print(torch.rand(2,3))"
      ],
      "execution_count": 5,
      "outputs": [
        {
          "output_type": "stream",
          "text": [
            "Numpy [[0.02880185 0.80668784 0.45253793]\n",
            " [0.80359574 0.60222919 0.34790862]]\n",
            "\n",
            "tensor([[0.8947, 0.6213, 0.5546],\n",
            "        [0.0338, 0.5793, 0.9010]])\n"
          ],
          "name": "stdout"
        }
      ]
    },
    {
      "cell_type": "code",
      "metadata": {
        "colab": {
          "base_uri": "https://localhost:8080/"
        },
        "id": "s2KgP2EnT3yR",
        "outputId": "cd7292c8-303c-4b25-bd23-aceb401c74bc"
      },
      "source": [
        "# random numpy array\n",
        "array = np.random.rand(2,2)\n",
        "print(\"{} {}\\n\".format(type(array),array))\n",
        "\n",
        "# from numpy to tensor\n",
        "from_numpy_to_tensor = torch.from_numpy(array)\n",
        "print(\"{}\\n\".format(from_numpy_to_tensor))\n",
        "\n",
        "# from tensor to numpy\n",
        "tensor = from_numpy_to_tensor\n",
        "from_tensor_to_numpy = tensor.numpy()\n",
        "print(\"{} {}\\n\".format(type(from_tensor_to_numpy),from_tensor_to_numpy))"
      ],
      "execution_count": 6,
      "outputs": [
        {
          "output_type": "stream",
          "text": [
            "<class 'numpy.ndarray'> [[0.17436503 0.8696262 ]\n",
            " [0.62340308 0.90412671]]\n",
            "\n",
            "tensor([[0.1744, 0.8696],\n",
            "        [0.6234, 0.9041]], dtype=torch.float64)\n",
            "\n",
            "<class 'numpy.ndarray'> [[0.17436503 0.8696262 ]\n",
            " [0.62340308 0.90412671]]\n",
            "\n"
          ],
          "name": "stdout"
        }
      ]
    },
    {
      "cell_type": "code",
      "metadata": {
        "id": "3iHpMoIkTFtO"
      },
      "source": [
        "from torch.autograd import Variable"
      ],
      "execution_count": 7,
      "outputs": []
    },
    {
      "cell_type": "markdown",
      "metadata": {
        "id": "WEQQy1_rFUfR"
      },
      "source": [
        "## Linear Regression"
      ]
    },
    {
      "cell_type": "code",
      "metadata": {
        "id": "JJ66ovqXc-3U"
      },
      "source": [
        "# As a car company we collect this data from previous selling\n",
        "# lets define car prices\n",
        "car_prices_array = [3,4,5,6,7,8,9]\n",
        "car_price_np = np.array(car_prices_array,dtype=np.float32)\n",
        "car_price_np = car_price_np.reshape(-1,1)\n",
        "car_price_tensor = Variable(torch.from_numpy(car_price_np))\n",
        "\n",
        "# lets define number of car sell\n",
        "number_of_car_sell_array = [ 7.5, 7, 6.5, 6.0, 5.5, 5.0, 4.5]\n",
        "number_of_car_sell_np = np.array(number_of_car_sell_array,dtype=np.float32)\n",
        "number_of_car_sell_np = number_of_car_sell_np.reshape(-1,1)\n",
        "number_of_car_sell_tensor = Variable(torch.from_numpy(number_of_car_sell_np))"
      ],
      "execution_count": 8,
      "outputs": []
    },
    {
      "cell_type": "code",
      "metadata": {
        "colab": {
          "base_uri": "https://localhost:8080/",
          "height": 295
        },
        "id": "VmkU1LVlG4za",
        "outputId": "7a190226-500e-4531-9fd7-07774e8c4ba5"
      },
      "source": [
        "# lets visualize our data\n",
        "import matplotlib.pyplot as plt\n",
        "plt.scatter(car_prices_array,number_of_car_sell_array)\n",
        "plt.xlabel(\"Car Price $\")\n",
        "plt.ylabel(\"Number of Car Sell\")\n",
        "plt.title(\"Car Price$ VS Number of Car Sell\")\n",
        "plt.show()"
      ],
      "execution_count": 9,
      "outputs": [
        {
          "output_type": "display_data",
          "data": {
            "image/png": "[encoded data removed]",
            "text/plain": [
              "<Figure size 432x288 with 1 Axes>"
            ]
          },
          "metadata": {
            "tags": [],
            "needs_background": "light"
          }
        }
      ]
    },
    {
      "cell_type": "code",
      "metadata": {
        "id": "1T0MLPU2HdPO"
      },
      "source": [
        "import torch\n",
        "import torch.nn as nn\n",
        "from torch.autograd import Variable\n",
        "import warnings\n",
        "warnings.filterwarnings(\"ignore\")"
      ],
      "execution_count": 10,
      "outputs": []
    },
    {
      "cell_type": "code",
      "metadata": {
        "id": "z3EPz_QnGyK4"
      },
      "source": [
        "# create class\n",
        "class LinearRegression(nn.Module):\n",
        "    def __init__(self,input_size,output_size):\n",
        "        # super function. It inherits from nn.Module and we can access everythink in nn.Module\n",
        "        super(LinearRegression,self).__init__()\n",
        "        # Linear function.\n",
        "        self.linear = nn.Linear(input_dim,output_dim)\n",
        "\n",
        "    def forward(self,x):\n",
        "        return self.linear(x)\n",
        "    "
      ],
      "execution_count": 16,
      "outputs": []
    },
    {
      "cell_type": "code",
      "metadata": {
        "id": "nNTPVOV6KwIn"
      },
      "source": [
        "# define model\n",
        "input_dim = 1\n",
        "output_dim = 1\n",
        "model = LinearRegression(input_dim, output_dim)"
      ],
      "execution_count": 17,
      "outputs": []
    },
    {
      "cell_type": "code",
      "metadata": {
        "id": "XHVxJYqTMvO8"
      },
      "source": [
        "# MSE\n",
        "mse = nn.MSELoss()"
      ],
      "execution_count": 18,
      "outputs": []
    },
    {
      "cell_type": "code",
      "metadata": {
        "id": "ntNPgOKGQigI"
      },
      "source": [
        "# Optimization (find parameters that minimize error)\n",
        "from torch.optim import SGD\n",
        "\n",
        "optimizer = SGD(model.parameters(), lr=0.02)"
      ],
      "execution_count": 19,
      "outputs": []
    },
    {
      "cell_type": "code",
      "metadata": {
        "colab": {
          "base_uri": "https://localhost:8080/"
        },
        "id": "JiKFwm0AR2GN",
        "outputId": "c6113236-246f-441a-a28f-2e1affcf8710"
      },
      "source": [
        "# train model\n",
        "loss_list = []\n",
        "iteration_number = 1001\n",
        "for iteration in range(iteration_number):\n",
        "        \n",
        "    # optimization\n",
        "    optimizer.zero_grad() \n",
        "    \n",
        "    # Forward to get output\n",
        "    results = model(car_price_tensor)\n",
        "    \n",
        "    # Calculate Loss\n",
        "    loss = mse(results, number_of_car_sell_tensor)\n",
        "    \n",
        "    # backward propagation\n",
        "    loss.backward()\n",
        "    \n",
        "    # Updating parameters\n",
        "    optimizer.step()\n",
        "    \n",
        "    # store loss\n",
        "    loss_list.append(loss.data)\n",
        "    \n",
        "    # print loss\n",
        "    if(iteration % 50 == 0):\n",
        "        print('epoch {}, loss {}'.format(iteration, loss.data))\n"
      ],
      "execution_count": 20,
      "outputs": [
        {
          "output_type": "stream",
          "text": [
            "epoch 0, loss 23.788715362548828\n",
            "epoch 50, loss 5.773085117340088\n",
            "epoch 100, loss 3.9011142253875732\n",
            "epoch 150, loss 2.636146306991577\n",
            "epoch 200, loss 1.7813551425933838\n",
            "epoch 250, loss 1.2037380933761597\n",
            "epoch 300, loss 0.8134164810180664\n",
            "epoch 350, loss 0.5496598482131958\n",
            "epoch 400, loss 0.37142840027809143\n",
            "epoch 450, loss 0.2509896159172058\n",
            "epoch 500, loss 0.16960430145263672\n",
            "epoch 550, loss 0.11460865288972855\n",
            "epoch 600, loss 0.07744573056697845\n",
            "epoch 650, loss 0.05233336612582207\n",
            "epoch 700, loss 0.03536362573504448\n",
            "epoch 750, loss 0.02389661967754364\n",
            "epoch 800, loss 0.016147993505001068\n",
            "epoch 850, loss 0.010911875404417515\n",
            "epoch 900, loss 0.007373434491455555\n",
            "epoch 950, loss 0.004982538986951113\n",
            "epoch 1000, loss 0.003366862190887332\n"
          ],
          "name": "stdout"
        }
      ]
    },
    {
      "cell_type": "code",
      "metadata": {
        "id": "ofhJwfHHVUOd",
        "colab": {
          "base_uri": "https://localhost:8080/",
          "height": 295
        },
        "outputId": "c599e35d-ddb1-453e-fc20-6687b89875d6"
      },
      "source": [
        "# predict our car price \n",
        "predicted = model(car_price_tensor).data.numpy()\n",
        "plt.scatter(car_prices_array,number_of_car_sell_array,label = \"original data\",color =\"red\")\n",
        "plt.scatter(car_prices_array,predicted,label = \"predicted data\",color =\"blue\")\n",
        "\n",
        "# predict if car price is 10$, what will be the number of car sell\n",
        "#predicted_10 = model(torch.from_numpy(np.array([10]))).data.numpy()\n",
        "#plt.scatter(10,predicted_10.data,label = \"car price 10$\",color =\"green\")\n",
        "plt.legend()\n",
        "plt.xlabel(\"Car Price $\")\n",
        "plt.ylabel(\"Number of Car Sell\")\n",
        "plt.title(\"Original vs Predicted values\")\n",
        "plt.show()"
      ],
      "execution_count": 21,
      "outputs": [
        {
          "output_type": "display_data",
          "data": {
            "image/png": "[encoded data removed]",
            "text/plain": [
              "<Figure size 432x288 with 1 Axes>"
            ]
          },
          "metadata": {
            "tags": [],
            "needs_background": "light"
          }
        }
      ]
    },
    {
      "cell_type": "code",
      "metadata": {
        "id": "kTE2Q7Z1uR6v"
      },
      "source": [
        ""
      ],
      "execution_count": null,
      "outputs": []
    }
  ]
}
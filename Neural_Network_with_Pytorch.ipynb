{
  "nbformat": 4,
  "nbformat_minor": 0,
  "metadata": {
    "colab": {
      "name": "Neural Network with Pytorch.ipynb",
      "provenance": [],
      "collapsed_sections": [],
      "authorship_tag": "ABX9TyP82dERGwxtno5wJuswNaip",
      "include_colab_link": true
    },
    "kernelspec": {
      "name": "python3",
      "display_name": "Python 3"
    },
    "widgets": {
      "application/vnd.jupyter.widget-state+json": {
        "80142c7781bb4111a578701f8a4a7900": {
          "model_module": "@jupyter-widgets/controls",
          "model_name": "HBoxModel",
          "state": {
            "_view_name": "HBoxView",
            "_dom_classes": [],
            "_model_name": "HBoxModel",
            "_view_module": "@jupyter-widgets/controls",
            "_model_module_version": "1.5.0",
            "_view_count": null,
            "_view_module_version": "1.5.0",
            "box_style": "",
            "layout": "IPY_MODEL_3b90ac5650d049ba8e465ef94c27e20b",
            "_model_module": "@jupyter-widgets/controls",
            "children": [
              "IPY_MODEL_e9ae5a244d434722b0fa7a3ac045e288",
              "IPY_MODEL_4a6cf8ce5d9e43209825ffc0934b6f66"
            ]
          }
        },
        "3b90ac5650d049ba8e465ef94c27e20b": {
          "model_module": "@jupyter-widgets/base",
          "model_name": "LayoutModel",
          "state": {
            "_view_name": "LayoutView",
            "grid_template_rows": null,
            "right": null,
            "justify_content": null,
            "_view_module": "@jupyter-widgets/base",
            "overflow": null,
            "_model_module_version": "1.2.0",
            "_view_count": null,
            "flex_flow": null,
            "width": null,
            "min_width": null,
            "border": null,
            "align_items": null,
            "bottom": null,
            "_model_module": "@jupyter-widgets/base",
            "top": null,
            "grid_column": null,
            "overflow_y": null,
            "overflow_x": null,
            "grid_auto_flow": null,
            "grid_area": null,
            "grid_template_columns": null,
            "flex": null,
            "_model_name": "LayoutModel",
            "justify_items": null,
            "grid_row": null,
            "max_height": null,
            "align_content": null,
            "visibility": null,
            "align_self": null,
            "height": null,
            "min_height": null,
            "padding": null,
            "grid_auto_rows": null,
            "grid_gap": null,
            "max_width": null,
            "order": null,
            "_view_module_version": "1.2.0",
            "grid_template_areas": null,
            "object_position": null,
            "object_fit": null,
            "grid_auto_columns": null,
            "margin": null,
            "display": null,
            "left": null
          }
        },
        "e9ae5a244d434722b0fa7a3ac045e288": {
          "model_module": "@jupyter-widgets/controls",
          "model_name": "FloatProgressModel",
          "state": {
            "_view_name": "ProgressView",
            "style": "IPY_MODEL_df812c0c05c64228b1801fd6a02d2764",
            "_dom_classes": [],
            "description": "",
            "_model_name": "FloatProgressModel",
            "bar_style": "info",
            "max": 1,
            "_view_module": "@jupyter-widgets/controls",
            "_model_module_version": "1.5.0",
            "value": 1,
            "_view_count": null,
            "_view_module_version": "1.5.0",
            "orientation": "horizontal",
            "min": 0,
            "description_tooltip": null,
            "_model_module": "@jupyter-widgets/controls",
            "layout": "IPY_MODEL_e8ef1be0c9b142a6bf4e2b795f90d879"
          }
        },
        "4a6cf8ce5d9e43209825ffc0934b6f66": {
          "model_module": "@jupyter-widgets/controls",
          "model_name": "HTMLModel",
          "state": {
            "_view_name": "HTMLView",
            "style": "IPY_MODEL_9aec9de90c8d41c8ba357867f3706511",
            "_dom_classes": [],
            "description": "",
            "_model_name": "HTMLModel",
            "placeholder": "​",
            "_view_module": "@jupyter-widgets/controls",
            "_model_module_version": "1.5.0",
            "value": " 9920512/? [00:20&lt;00:00, 2052556.61it/s]",
            "_view_count": null,
            "_view_module_version": "1.5.0",
            "description_tooltip": null,
            "_model_module": "@jupyter-widgets/controls",
            "layout": "IPY_MODEL_1012eca54d314df78f1b345ee67a3916"
          }
        },
        "df812c0c05c64228b1801fd6a02d2764": {
          "model_module": "@jupyter-widgets/controls",
          "model_name": "ProgressStyleModel",
          "state": {
            "_view_name": "StyleView",
            "_model_name": "ProgressStyleModel",
            "description_width": "initial",
            "_view_module": "@jupyter-widgets/base",
            "_model_module_version": "1.5.0",
            "_view_count": null,
            "_view_module_version": "1.2.0",
            "bar_color": null,
            "_model_module": "@jupyter-widgets/controls"
          }
        },
        "e8ef1be0c9b142a6bf4e2b795f90d879": {
          "model_module": "@jupyter-widgets/base",
          "model_name": "LayoutModel",
          "state": {
            "_view_name": "LayoutView",
            "grid_template_rows": null,
            "right": null,
            "justify_content": null,
            "_view_module": "@jupyter-widgets/base",
            "overflow": null,
            "_model_module_version": "1.2.0",
            "_view_count": null,
            "flex_flow": null,
            "width": null,
            "min_width": null,
            "border": null,
            "align_items": null,
            "bottom": null,
            "_model_module": "@jupyter-widgets/base",
            "top": null,
            "grid_column": null,
            "overflow_y": null,
            "overflow_x": null,
            "grid_auto_flow": null,
            "grid_area": null,
            "grid_template_columns": null,
            "flex": null,
            "_model_name": "LayoutModel",
            "justify_items": null,
            "grid_row": null,
            "max_height": null,
            "align_content": null,
            "visibility": null,
            "align_self": null,
            "height": null,
            "min_height": null,
            "padding": null,
            "grid_auto_rows": null,
            "grid_gap": null,
            "max_width": null,
            "order": null,
            "_view_module_version": "1.2.0",
            "grid_template_areas": null,
            "object_position": null,
            "object_fit": null,
            "grid_auto_columns": null,
            "margin": null,
            "display": null,
            "left": null
          }
        },
        "9aec9de90c8d41c8ba357867f3706511": {
          "model_module": "@jupyter-widgets/controls",
          "model_name": "DescriptionStyleModel",
          "state": {
            "_view_name": "StyleView",
            "_model_name": "DescriptionStyleModel",
            "description_width": "",
            "_view_module": "@jupyter-widgets/base",
            "_model_module_version": "1.5.0",
            "_view_count": null,
            "_view_module_version": "1.2.0",
            "_model_module": "@jupyter-widgets/controls"
          }
        },
        "1012eca54d314df78f1b345ee67a3916": {
          "model_module": "@jupyter-widgets/base",
          "model_name": "LayoutModel",
          "state": {
            "_view_name": "LayoutView",
            "grid_template_rows": null,
            "right": null,
            "justify_content": null,
            "_view_module": "@jupyter-widgets/base",
            "overflow": null,
            "_model_module_version": "1.2.0",
            "_view_count": null,
            "flex_flow": null,
            "width": null,
            "min_width": null,
            "border": null,
            "align_items": null,
            "bottom": null,
            "_model_module": "@jupyter-widgets/base",
            "top": null,
            "grid_column": null,
            "overflow_y": null,
            "overflow_x": null,
            "grid_auto_flow": null,
            "grid_area": null,
            "grid_template_columns": null,
            "flex": null,
            "_model_name": "LayoutModel",
            "justify_items": null,
            "grid_row": null,
            "max_height": null,
            "align_content": null,
            "visibility": null,
            "align_self": null,
            "height": null,
            "min_height": null,
            "padding": null,
            "grid_auto_rows": null,
            "grid_gap": null,
            "max_width": null,
            "order": null,
            "_view_module_version": "1.2.0",
            "grid_template_areas": null,
            "object_position": null,
            "object_fit": null,
            "grid_auto_columns": null,
            "margin": null,
            "display": null,
            "left": null
          }
        },
        "0ed5821a217b402f8594c905488efa4f": {
          "model_module": "@jupyter-widgets/controls",
          "model_name": "HBoxModel",
          "state": {
            "_view_name": "HBoxView",
            "_dom_classes": [],
            "_model_name": "HBoxModel",
            "_view_module": "@jupyter-widgets/controls",
            "_model_module_version": "1.5.0",
            "_view_count": null,
            "_view_module_version": "1.5.0",
            "box_style": "",
            "layout": "IPY_MODEL_afa76593962c4d5bba5c1c0eb4b3720b",
            "_model_module": "@jupyter-widgets/controls",
            "children": [
              "IPY_MODEL_297d80af24dd48338622fb23e257f34f",
              "IPY_MODEL_86d25c168eca4362898b1b3638309310"
            ]
          }
        },
        "afa76593962c4d5bba5c1c0eb4b3720b": {
          "model_module": "@jupyter-widgets/base",
          "model_name": "LayoutModel",
          "state": {
            "_view_name": "LayoutView",
            "grid_template_rows": null,
            "right": null,
            "justify_content": null,
            "_view_module": "@jupyter-widgets/base",
            "overflow": null,
            "_model_module_version": "1.2.0",
            "_view_count": null,
            "flex_flow": null,
            "width": null,
            "min_width": null,
            "border": null,
            "align_items": null,
            "bottom": null,
            "_model_module": "@jupyter-widgets/base",
            "top": null,
            "grid_column": null,
            "overflow_y": null,
            "overflow_x": null,
            "grid_auto_flow": null,
            "grid_area": null,
            "grid_template_columns": null,
            "flex": null,
            "_model_name": "LayoutModel",
            "justify_items": null,
            "grid_row": null,
            "max_height": null,
            "align_content": null,
            "visibility": null,
            "align_self": null,
            "height": null,
            "min_height": null,
            "padding": null,
            "grid_auto_rows": null,
            "grid_gap": null,
            "max_width": null,
            "order": null,
            "_view_module_version": "1.2.0",
            "grid_template_areas": null,
            "object_position": null,
            "object_fit": null,
            "grid_auto_columns": null,
            "margin": null,
            "display": null,
            "left": null
          }
        },
        "297d80af24dd48338622fb23e257f34f": {
          "model_module": "@jupyter-widgets/controls",
          "model_name": "FloatProgressModel",
          "state": {
            "_view_name": "ProgressView",
            "style": "IPY_MODEL_819889ff4db846bd83573cdea799a59e",
            "_dom_classes": [],
            "description": "  0%",
            "_model_name": "FloatProgressModel",
            "bar_style": "info",
            "max": 1,
            "_view_module": "@jupyter-widgets/controls",
            "_model_module_version": "1.5.0",
            "value": 0,
            "_view_count": null,
            "_view_module_version": "1.5.0",
            "orientation": "horizontal",
            "min": 0,
            "description_tooltip": null,
            "_model_module": "@jupyter-widgets/controls",
            "layout": "IPY_MODEL_9a574ace3127402596be4b11379a7d40"
          }
        },
        "86d25c168eca4362898b1b3638309310": {
          "model_module": "@jupyter-widgets/controls",
          "model_name": "HTMLModel",
          "state": {
            "_view_name": "HTMLView",
            "style": "IPY_MODEL_a0cf96d970324b77a4d8b000dbb97db0",
            "_dom_classes": [],
            "description": "",
            "_model_name": "HTMLModel",
            "placeholder": "​",
            "_view_module": "@jupyter-widgets/controls",
            "_model_module_version": "1.5.0",
            "value": " 0/28881 [00:00&lt;?, ?it/s]",
            "_view_count": null,
            "_view_module_version": "1.5.0",
            "description_tooltip": null,
            "_model_module": "@jupyter-widgets/controls",
            "layout": "IPY_MODEL_40268e196a9445168e4308e14c454c28"
          }
        },
        "819889ff4db846bd83573cdea799a59e": {
          "model_module": "@jupyter-widgets/controls",
          "model_name": "ProgressStyleModel",
          "state": {
            "_view_name": "StyleView",
            "_model_name": "ProgressStyleModel",
            "description_width": "initial",
            "_view_module": "@jupyter-widgets/base",
            "_model_module_version": "1.5.0",
            "_view_count": null,
            "_view_module_version": "1.2.0",
            "bar_color": null,
            "_model_module": "@jupyter-widgets/controls"
          }
        },
        "9a574ace3127402596be4b11379a7d40": {
          "model_module": "@jupyter-widgets/base",
          "model_name": "LayoutModel",
          "state": {
            "_view_name": "LayoutView",
            "grid_template_rows": null,
            "right": null,
            "justify_content": null,
            "_view_module": "@jupyter-widgets/base",
            "overflow": null,
            "_model_module_version": "1.2.0",
            "_view_count": null,
            "flex_flow": null,
            "width": null,
            "min_width": null,
            "border": null,
            "align_items": null,
            "bottom": null,
            "_model_module": "@jupyter-widgets/base",
            "top": null,
            "grid_column": null,
            "overflow_y": null,
            "overflow_x": null,
            "grid_auto_flow": null,
            "grid_area": null,
            "grid_template_columns": null,
            "flex": null,
            "_model_name": "LayoutModel",
            "justify_items": null,
            "grid_row": null,
            "max_height": null,
            "align_content": null,
            "visibility": null,
            "align_self": null,
            "height": null,
            "min_height": null,
            "padding": null,
            "grid_auto_rows": null,
            "grid_gap": null,
            "max_width": null,
            "order": null,
            "_view_module_version": "1.2.0",
            "grid_template_areas": null,
            "object_position": null,
            "object_fit": null,
            "grid_auto_columns": null,
            "margin": null,
            "display": null,
            "left": null
          }
        },
        "a0cf96d970324b77a4d8b000dbb97db0": {
          "model_module": "@jupyter-widgets/controls",
          "model_name": "DescriptionStyleModel",
          "state": {
            "_view_name": "StyleView",
            "_model_name": "DescriptionStyleModel",
            "description_width": "",
            "_view_module": "@jupyter-widgets/base",
            "_model_module_version": "1.5.0",
            "_view_count": null,
            "_view_module_version": "1.2.0",
            "_model_module": "@jupyter-widgets/controls"
          }
        },
        "40268e196a9445168e4308e14c454c28": {
          "model_module": "@jupyter-widgets/base",
          "model_name": "LayoutModel",
          "state": {
            "_view_name": "LayoutView",
            "grid_template_rows": null,
            "right": null,
            "justify_content": null,
            "_view_module": "@jupyter-widgets/base",
            "overflow": null,
            "_model_module_version": "1.2.0",
            "_view_count": null,
            "flex_flow": null,
            "width": null,
            "min_width": null,
            "border": null,
            "align_items": null,
            "bottom": null,
            "_model_module": "@jupyter-widgets/base",
            "top": null,
            "grid_column": null,
            "overflow_y": null,
            "overflow_x": null,
            "grid_auto_flow": null,
            "grid_area": null,
            "grid_template_columns": null,
            "flex": null,
            "_model_name": "LayoutModel",
            "justify_items": null,
            "grid_row": null,
            "max_height": null,
            "align_content": null,
            "visibility": null,
            "align_self": null,
            "height": null,
            "min_height": null,
            "padding": null,
            "grid_auto_rows": null,
            "grid_gap": null,
            "max_width": null,
            "order": null,
            "_view_module_version": "1.2.0",
            "grid_template_areas": null,
            "object_position": null,
            "object_fit": null,
            "grid_auto_columns": null,
            "margin": null,
            "display": null,
            "left": null
          }
        },
        "9a8e50fc5d554ef887e77cb673162a69": {
          "model_module": "@jupyter-widgets/controls",
          "model_name": "HBoxModel",
          "state": {
            "_view_name": "HBoxView",
            "_dom_classes": [],
            "_model_name": "HBoxModel",
            "_view_module": "@jupyter-widgets/controls",
            "_model_module_version": "1.5.0",
            "_view_count": null,
            "_view_module_version": "1.5.0",
            "box_style": "",
            "layout": "IPY_MODEL_14a87d01eed04d85b14d98fcdaefb027",
            "_model_module": "@jupyter-widgets/controls",
            "children": [
              "IPY_MODEL_0c309967b014483b95f01c65f87a6253",
              "IPY_MODEL_059286f8501d4b4abac80eae85ca3a14"
            ]
          }
        },
        "14a87d01eed04d85b14d98fcdaefb027": {
          "model_module": "@jupyter-widgets/base",
          "model_name": "LayoutModel",
          "state": {
            "_view_name": "LayoutView",
            "grid_template_rows": null,
            "right": null,
            "justify_content": null,
            "_view_module": "@jupyter-widgets/base",
            "overflow": null,
            "_model_module_version": "1.2.0",
            "_view_count": null,
            "flex_flow": null,
            "width": null,
            "min_width": null,
            "border": null,
            "align_items": null,
            "bottom": null,
            "_model_module": "@jupyter-widgets/base",
            "top": null,
            "grid_column": null,
            "overflow_y": null,
            "overflow_x": null,
            "grid_auto_flow": null,
            "grid_area": null,
            "grid_template_columns": null,
            "flex": null,
            "_model_name": "LayoutModel",
            "justify_items": null,
            "grid_row": null,
            "max_height": null,
            "align_content": null,
            "visibility": null,
            "align_self": null,
            "height": null,
            "min_height": null,
            "padding": null,
            "grid_auto_rows": null,
            "grid_gap": null,
            "max_width": null,
            "order": null,
            "_view_module_version": "1.2.0",
            "grid_template_areas": null,
            "object_position": null,
            "object_fit": null,
            "grid_auto_columns": null,
            "margin": null,
            "display": null,
            "left": null
          }
        },
        "0c309967b014483b95f01c65f87a6253": {
          "model_module": "@jupyter-widgets/controls",
          "model_name": "FloatProgressModel",
          "state": {
            "_view_name": "ProgressView",
            "style": "IPY_MODEL_aeaf5de4cd3744bebcd7fb2d13865d60",
            "_dom_classes": [],
            "description": "",
            "_model_name": "FloatProgressModel",
            "bar_style": "info",
            "max": 1,
            "_view_module": "@jupyter-widgets/controls",
            "_model_module_version": "1.5.0",
            "value": 1,
            "_view_count": null,
            "_view_module_version": "1.5.0",
            "orientation": "horizontal",
            "min": 0,
            "description_tooltip": null,
            "_model_module": "@jupyter-widgets/controls",
            "layout": "IPY_MODEL_9e5761fd7b9b44b88d9935d373b87770"
          }
        },
        "059286f8501d4b4abac80eae85ca3a14": {
          "model_module": "@jupyter-widgets/controls",
          "model_name": "HTMLModel",
          "state": {
            "_view_name": "HTMLView",
            "style": "IPY_MODEL_12aac6f7cabc47c1a3d5583b0371c949",
            "_dom_classes": [],
            "description": "",
            "_model_name": "HTMLModel",
            "placeholder": "​",
            "_view_module": "@jupyter-widgets/controls",
            "_model_module_version": "1.5.0",
            "value": " 1654784/? [00:18&lt;00:00, 1143155.34it/s]",
            "_view_count": null,
            "_view_module_version": "1.5.0",
            "description_tooltip": null,
            "_model_module": "@jupyter-widgets/controls",
            "layout": "IPY_MODEL_ede84d160997496cb9c2f3dc58b16b57"
          }
        },
        "aeaf5de4cd3744bebcd7fb2d13865d60": {
          "model_module": "@jupyter-widgets/controls",
          "model_name": "ProgressStyleModel",
          "state": {
            "_view_name": "StyleView",
            "_model_name": "ProgressStyleModel",
            "description_width": "initial",
            "_view_module": "@jupyter-widgets/base",
            "_model_module_version": "1.5.0",
            "_view_count": null,
            "_view_module_version": "1.2.0",
            "bar_color": null,
            "_model_module": "@jupyter-widgets/controls"
          }
        },
        "9e5761fd7b9b44b88d9935d373b87770": {
          "model_module": "@jupyter-widgets/base",
          "model_name": "LayoutModel",
          "state": {
            "_view_name": "LayoutView",
            "grid_template_rows": null,
            "right": null,
            "justify_content": null,
            "_view_module": "@jupyter-widgets/base",
            "overflow": null,
            "_model_module_version": "1.2.0",
            "_view_count": null,
            "flex_flow": null,
            "width": null,
            "min_width": null,
            "border": null,
            "align_items": null,
            "bottom": null,
            "_model_module": "@jupyter-widgets/base",
            "top": null,
            "grid_column": null,
            "overflow_y": null,
            "overflow_x": null,
            "grid_auto_flow": null,
            "grid_area": null,
            "grid_template_columns": null,
            "flex": null,
            "_model_name": "LayoutModel",
            "justify_items": null,
            "grid_row": null,
            "max_height": null,
            "align_content": null,
            "visibility": null,
            "align_self": null,
            "height": null,
            "min_height": null,
            "padding": null,
            "grid_auto_rows": null,
            "grid_gap": null,
            "max_width": null,
            "order": null,
            "_view_module_version": "1.2.0",
            "grid_template_areas": null,
            "object_position": null,
            "object_fit": null,
            "grid_auto_columns": null,
            "margin": null,
            "display": null,
            "left": null
          }
        },
        "12aac6f7cabc47c1a3d5583b0371c949": {
          "model_module": "@jupyter-widgets/controls",
          "model_name": "DescriptionStyleModel",
          "state": {
            "_view_name": "StyleView",
            "_model_name": "DescriptionStyleModel",
            "description_width": "",
            "_view_module": "@jupyter-widgets/base",
            "_model_module_version": "1.5.0",
            "_view_count": null,
            "_view_module_version": "1.2.0",
            "_model_module": "@jupyter-widgets/controls"
          }
        },
        "ede84d160997496cb9c2f3dc58b16b57": {
          "model_module": "@jupyter-widgets/base",
          "model_name": "LayoutModel",
          "state": {
            "_view_name": "LayoutView",
            "grid_template_rows": null,
            "right": null,
            "justify_content": null,
            "_view_module": "@jupyter-widgets/base",
            "overflow": null,
            "_model_module_version": "1.2.0",
            "_view_count": null,
            "flex_flow": null,
            "width": null,
            "min_width": null,
            "border": null,
            "align_items": null,
            "bottom": null,
            "_model_module": "@jupyter-widgets/base",
            "top": null,
            "grid_column": null,
            "overflow_y": null,
            "overflow_x": null,
            "grid_auto_flow": null,
            "grid_area": null,
            "grid_template_columns": null,
            "flex": null,
            "_model_name": "LayoutModel",
            "justify_items": null,
            "grid_row": null,
            "max_height": null,
            "align_content": null,
            "visibility": null,
            "align_self": null,
            "height": null,
            "min_height": null,
            "padding": null,
            "grid_auto_rows": null,
            "grid_gap": null,
            "max_width": null,
            "order": null,
            "_view_module_version": "1.2.0",
            "grid_template_areas": null,
            "object_position": null,
            "object_fit": null,
            "grid_auto_columns": null,
            "margin": null,
            "display": null,
            "left": null
          }
        },
        "ae366a5b12464d1b96447b4bdde26d3d": {
          "model_module": "@jupyter-widgets/controls",
          "model_name": "HBoxModel",
          "state": {
            "_view_name": "HBoxView",
            "_dom_classes": [],
            "_model_name": "HBoxModel",
            "_view_module": "@jupyter-widgets/controls",
            "_model_module_version": "1.5.0",
            "_view_count": null,
            "_view_module_version": "1.5.0",
            "box_style": "",
            "layout": "IPY_MODEL_24f8a97f850a4f22af35fe900389aa62",
            "_model_module": "@jupyter-widgets/controls",
            "children": [
              "IPY_MODEL_f3866ff32cdc40c886e9a4dd6a439cdd",
              "IPY_MODEL_1fb46404ab864999be32ef5db3014935"
            ]
          }
        },
        "24f8a97f850a4f22af35fe900389aa62": {
          "model_module": "@jupyter-widgets/base",
          "model_name": "LayoutModel",
          "state": {
            "_view_name": "LayoutView",
            "grid_template_rows": null,
            "right": null,
            "justify_content": null,
            "_view_module": "@jupyter-widgets/base",
            "overflow": null,
            "_model_module_version": "1.2.0",
            "_view_count": null,
            "flex_flow": null,
            "width": null,
            "min_width": null,
            "border": null,
            "align_items": null,
            "bottom": null,
            "_model_module": "@jupyter-widgets/base",
            "top": null,
            "grid_column": null,
            "overflow_y": null,
            "overflow_x": null,
            "grid_auto_flow": null,
            "grid_area": null,
            "grid_template_columns": null,
            "flex": null,
            "_model_name": "LayoutModel",
            "justify_items": null,
            "grid_row": null,
            "max_height": null,
            "align_content": null,
            "visibility": null,
            "align_self": null,
            "height": null,
            "min_height": null,
            "padding": null,
            "grid_auto_rows": null,
            "grid_gap": null,
            "max_width": null,
            "order": null,
            "_view_module_version": "1.2.0",
            "grid_template_areas": null,
            "object_position": null,
            "object_fit": null,
            "grid_auto_columns": null,
            "margin": null,
            "display": null,
            "left": null
          }
        },
        "f3866ff32cdc40c886e9a4dd6a439cdd": {
          "model_module": "@jupyter-widgets/controls",
          "model_name": "FloatProgressModel",
          "state": {
            "_view_name": "ProgressView",
            "style": "IPY_MODEL_73a7ff116cff4703a41ac3909e3bc7bf",
            "_dom_classes": [],
            "description": "  0%",
            "_model_name": "FloatProgressModel",
            "bar_style": "info",
            "max": 1,
            "_view_module": "@jupyter-widgets/controls",
            "_model_module_version": "1.5.0",
            "value": 0,
            "_view_count": null,
            "_view_module_version": "1.5.0",
            "orientation": "horizontal",
            "min": 0,
            "description_tooltip": null,
            "_model_module": "@jupyter-widgets/controls",
            "layout": "IPY_MODEL_a4396607de004a5ea1ffc3e9a46a65b1"
          }
        },
        "1fb46404ab864999be32ef5db3014935": {
          "model_module": "@jupyter-widgets/controls",
          "model_name": "HTMLModel",
          "state": {
            "_view_name": "HTMLView",
            "style": "IPY_MODEL_1399c4a20a2e4399851ee62d76396a0a",
            "_dom_classes": [],
            "description": "",
            "_model_name": "HTMLModel",
            "placeholder": "​",
            "_view_module": "@jupyter-widgets/controls",
            "_model_module_version": "1.5.0",
            "value": " 0/4542 [00:00&lt;?, ?it/s]",
            "_view_count": null,
            "_view_module_version": "1.5.0",
            "description_tooltip": null,
            "_model_module": "@jupyter-widgets/controls",
            "layout": "IPY_MODEL_7e0588de2778426e92c887e054906cd6"
          }
        },
        "73a7ff116cff4703a41ac3909e3bc7bf": {
          "model_module": "@jupyter-widgets/controls",
          "model_name": "ProgressStyleModel",
          "state": {
            "_view_name": "StyleView",
            "_model_name": "ProgressStyleModel",
            "description_width": "initial",
            "_view_module": "@jupyter-widgets/base",
            "_model_module_version": "1.5.0",
            "_view_count": null,
            "_view_module_version": "1.2.0",
            "bar_color": null,
            "_model_module": "@jupyter-widgets/controls"
          }
        },
        "a4396607de004a5ea1ffc3e9a46a65b1": {
          "model_module": "@jupyter-widgets/base",
          "model_name": "LayoutModel",
          "state": {
            "_view_name": "LayoutView",
            "grid_template_rows": null,
            "right": null,
            "justify_content": null,
            "_view_module": "@jupyter-widgets/base",
            "overflow": null,
            "_model_module_version": "1.2.0",
            "_view_count": null,
            "flex_flow": null,
            "width": null,
            "min_width": null,
            "border": null,
            "align_items": null,
            "bottom": null,
            "_model_module": "@jupyter-widgets/base",
            "top": null,
            "grid_column": null,
            "overflow_y": null,
            "overflow_x": null,
            "grid_auto_flow": null,
            "grid_area": null,
            "grid_template_columns": null,
            "flex": null,
            "_model_name": "LayoutModel",
            "justify_items": null,
            "grid_row": null,
            "max_height": null,
            "align_content": null,
            "visibility": null,
            "align_self": null,
            "height": null,
            "min_height": null,
            "padding": null,
            "grid_auto_rows": null,
            "grid_gap": null,
            "max_width": null,
            "order": null,
            "_view_module_version": "1.2.0",
            "grid_template_areas": null,
            "object_position": null,
            "object_fit": null,
            "grid_auto_columns": null,
            "margin": null,
            "display": null,
            "left": null
          }
        },
        "1399c4a20a2e4399851ee62d76396a0a": {
          "model_module": "@jupyter-widgets/controls",
          "model_name": "DescriptionStyleModel",
          "state": {
            "_view_name": "StyleView",
            "_model_name": "DescriptionStyleModel",
            "description_width": "",
            "_view_module": "@jupyter-widgets/base",
            "_model_module_version": "1.5.0",
            "_view_count": null,
            "_view_module_version": "1.2.0",
            "_model_module": "@jupyter-widgets/controls"
          }
        },
        "7e0588de2778426e92c887e054906cd6": {
          "model_module": "@jupyter-widgets/base",
          "model_name": "LayoutModel",
          "state": {
            "_view_name": "LayoutView",
            "grid_template_rows": null,
            "right": null,
            "justify_content": null,
            "_view_module": "@jupyter-widgets/base",
            "overflow": null,
            "_model_module_version": "1.2.0",
            "_view_count": null,
            "flex_flow": null,
            "width": null,
            "min_width": null,
            "border": null,
            "align_items": null,
            "bottom": null,
            "_model_module": "@jupyter-widgets/base",
            "top": null,
            "grid_column": null,
            "overflow_y": null,
            "overflow_x": null,
            "grid_auto_flow": null,
            "grid_area": null,
            "grid_template_columns": null,
            "flex": null,
            "_model_name": "LayoutModel",
            "justify_items": null,
            "grid_row": null,
            "max_height": null,
            "align_content": null,
            "visibility": null,
            "align_self": null,
            "height": null,
            "min_height": null,
            "padding": null,
            "grid_auto_rows": null,
            "grid_gap": null,
            "max_width": null,
            "order": null,
            "_view_module_version": "1.2.0",
            "grid_template_areas": null,
            "object_position": null,
            "object_fit": null,
            "grid_auto_columns": null,
            "margin": null,
            "display": null,
            "left": null
          }
        }
      }
    }
  },
  "cells": [
    {
      "cell_type": "markdown",
      "metadata": {
        "id": "view-in-github",
        "colab_type": "text"
      },
      "source": [
        "<a href=\"https://colab.research.google.com/github/Vonewman/Deep_Learning_models_with_pytorch/blob/master/Neural_Network_with_Pytorch.ipynb\" target=\"_parent\"><img src=\"https://colab.research.google.com/assets/colab-badge.svg\" alt=\"Open In Colab\"/></a>"
      ]
    },
    {
      "cell_type": "markdown",
      "metadata": {
        "id": "w808Ixf5TmcN",
        "colab_type": "text"
      },
      "source": [
        "# Neural networks with PyTorch\n",
        "\n",
        "Deep learning networks tend to be massive with dozens or hundreds of layers, that's where the term \"deep\" comes from. You can build one of these deep networks using only weight matrices as we did in the previous notebook, but in general it's very cumbersome and difficult to implement. PyTorch has a nice module `nn` that provides a nice way to efficiently build large neural networks."
      ]
    },
    {
      "cell_type": "code",
      "metadata": {
        "id": "xCn3nn7SSq94",
        "colab_type": "code",
        "colab": {}
      },
      "source": [
        "# Import necessary packages\n",
        "%matplotlib inline\n",
        "%config InlineBackend.figure_format = 'retina'\n",
        "\n",
        "import numpy as np\n",
        "import torch\n",
        "\n",
        "import helper\n",
        "\n",
        "import matplotlib.pyplot as plt"
      ],
      "execution_count": 0,
      "outputs": []
    },
    {
      "cell_type": "markdown",
      "metadata": {
        "id": "SnbcMZsCarpb",
        "colab_type": "text"
      },
      "source": [
        "## Download the MNIST datasets"
      ]
    },
    {
      "cell_type": "code",
      "metadata": {
        "id": "Um0oro4tVX5S",
        "colab_type": "code",
        "colab": {
          "base_uri": "https://localhost:8080/",
          "height": 350,
          "referenced_widgets": [
            "80142c7781bb4111a578701f8a4a7900",
            "3b90ac5650d049ba8e465ef94c27e20b",
            "e9ae5a244d434722b0fa7a3ac045e288",
            "4a6cf8ce5d9e43209825ffc0934b6f66",
            "df812c0c05c64228b1801fd6a02d2764",
            "e8ef1be0c9b142a6bf4e2b795f90d879",
            "9aec9de90c8d41c8ba357867f3706511",
            "1012eca54d314df78f1b345ee67a3916",
            "0ed5821a217b402f8594c905488efa4f",
            "afa76593962c4d5bba5c1c0eb4b3720b",
            "297d80af24dd48338622fb23e257f34f",
            "86d25c168eca4362898b1b3638309310",
            "819889ff4db846bd83573cdea799a59e",
            "9a574ace3127402596be4b11379a7d40",
            "a0cf96d970324b77a4d8b000dbb97db0",
            "40268e196a9445168e4308e14c454c28",
            "9a8e50fc5d554ef887e77cb673162a69",
            "14a87d01eed04d85b14d98fcdaefb027",
            "0c309967b014483b95f01c65f87a6253",
            "059286f8501d4b4abac80eae85ca3a14",
            "aeaf5de4cd3744bebcd7fb2d13865d60",
            "9e5761fd7b9b44b88d9935d373b87770",
            "12aac6f7cabc47c1a3d5583b0371c949",
            "ede84d160997496cb9c2f3dc58b16b57",
            "ae366a5b12464d1b96447b4bdde26d3d",
            "24f8a97f850a4f22af35fe900389aa62",
            "f3866ff32cdc40c886e9a4dd6a439cdd",
            "1fb46404ab864999be32ef5db3014935",
            "73a7ff116cff4703a41ac3909e3bc7bf",
            "a4396607de004a5ea1ffc3e9a46a65b1",
            "1399c4a20a2e4399851ee62d76396a0a",
            "7e0588de2778426e92c887e054906cd6"
          ]
        },
        "outputId": "c26d617e-a898-461d-d31a-4f012e92f094"
      },
      "source": [
        "from torchvision import datasets, transforms\n",
        "\n",
        "# Define a transform to normalize the data\n",
        "transform = transforms.Compose([transforms.ToTensor(),\n",
        "                                transforms.Normalize((0.5,), (0.5,)),\n",
        "                                ])\n",
        "\n",
        "# Download and load the training data\n",
        "trainset = datasets.MNIST('MNIST_data/', download=True, train=True, transform=transform)\n",
        "trainloader = torch.utils.data.DataLoader(trainset, batch_size=64, shuffle=True)"
      ],
      "execution_count": 3,
      "outputs": [
        {
          "output_type": "stream",
          "text": [
            "Downloading http://yann.lecun.com/exdb/mnist/train-images-idx3-ubyte.gz to MNIST_data/MNIST/raw/train-images-idx3-ubyte.gz\n"
          ],
          "name": "stdout"
        },
        {
          "output_type": "display_data",
          "data": {
            "application/vnd.jupyter.widget-view+json": {
              "model_id": "80142c7781bb4111a578701f8a4a7900",
              "version_minor": 0,
              "version_major": 2
            },
            "text/plain": [
              "HBox(children=(FloatProgress(value=1.0, bar_style='info', max=1.0), HTML(value='')))"
            ]
          },
          "metadata": {
            "tags": []
          }
        },
        {
          "output_type": "stream",
          "text": [
            "Extracting MNIST_data/MNIST/raw/train-images-idx3-ubyte.gz to MNIST_data/MNIST/raw\n",
            "Downloading http://yann.lecun.com/exdb/mnist/train-labels-idx1-ubyte.gz to MNIST_data/MNIST/raw/train-labels-idx1-ubyte.gz\n"
          ],
          "name": "stdout"
        },
        {
          "output_type": "display_data",
          "data": {
            "application/vnd.jupyter.widget-view+json": {
              "model_id": "0ed5821a217b402f8594c905488efa4f",
              "version_minor": 0,
              "version_major": 2
            },
            "text/plain": [
              "HBox(children=(FloatProgress(value=1.0, bar_style='info', max=1.0), HTML(value='')))"
            ]
          },
          "metadata": {
            "tags": []
          }
        },
        {
          "output_type": "stream",
          "text": [
            "Extracting MNIST_data/MNIST/raw/train-labels-idx1-ubyte.gz to MNIST_data/MNIST/raw\n",
            "Downloading http://yann.lecun.com/exdb/mnist/t10k-images-idx3-ubyte.gz to MNIST_data/MNIST/raw/t10k-images-idx3-ubyte.gz\n"
          ],
          "name": "stdout"
        },
        {
          "output_type": "display_data",
          "data": {
            "application/vnd.jupyter.widget-view+json": {
              "model_id": "9a8e50fc5d554ef887e77cb673162a69",
              "version_minor": 0,
              "version_major": 2
            },
            "text/plain": [
              "HBox(children=(FloatProgress(value=1.0, bar_style='info', max=1.0), HTML(value='')))"
            ]
          },
          "metadata": {
            "tags": []
          }
        },
        {
          "output_type": "stream",
          "text": [
            "Extracting MNIST_data/MNIST/raw/t10k-images-idx3-ubyte.gz to MNIST_data/MNIST/raw\n",
            "Downloading http://yann.lecun.com/exdb/mnist/t10k-labels-idx1-ubyte.gz to MNIST_data/MNIST/raw/t10k-labels-idx1-ubyte.gz\n"
          ],
          "name": "stdout"
        },
        {
          "output_type": "display_data",
          "data": {
            "application/vnd.jupyter.widget-view+json": {
              "model_id": "ae366a5b12464d1b96447b4bdde26d3d",
              "version_minor": 0,
              "version_major": 2
            },
            "text/plain": [
              "HBox(children=(FloatProgress(value=1.0, bar_style='info', max=1.0), HTML(value='')))"
            ]
          },
          "metadata": {
            "tags": []
          }
        },
        {
          "output_type": "stream",
          "text": [
            "Extracting MNIST_data/MNIST/raw/t10k-labels-idx1-ubyte.gz to MNIST_data/MNIST/raw\n",
            "Processing...\n",
            "Done!\n"
          ],
          "name": "stdout"
        },
        {
          "output_type": "stream",
          "text": [
            "/pytorch/torch/csrc/utils/tensor_numpy.cpp:141: UserWarning: The given NumPy array is not writeable, and PyTorch does not support non-writeable tensors. This means you can write to the underlying (supposedly non-writeable) NumPy array using the tensor. You may want to copy the array to protect its data or make it writeable before converting it to a tensor. This type of warning will be suppressed for the rest of this program.\n"
          ],
          "name": "stderr"
        }
      ]
    },
    {
      "cell_type": "code",
      "metadata": {
        "id": "CWqiLse2iJmX",
        "colab_type": "code",
        "outputId": "3d68c184-4db1-4c4e-9c17-f729ab395ccd",
        "colab": {
          "base_uri": "https://localhost:8080/",
          "height": 67
        }
      },
      "source": [
        "dataiter = iter(trainloader)\n",
        "images, labels = dataiter.next()\n",
        "print(type(images))\n",
        "print(images.shape)\n",
        "print(labels.shape)"
      ],
      "execution_count": 4,
      "outputs": [
        {
          "output_type": "stream",
          "text": [
            "<class 'torch.Tensor'>\n",
            "torch.Size([64, 1, 28, 28])\n",
            "torch.Size([64])\n"
          ],
          "name": "stdout"
        }
      ]
    },
    {
      "cell_type": "code",
      "metadata": {
        "id": "CpDS7RKJ23Na",
        "colab_type": "code",
        "outputId": "4ee99d1a-b86c-4c19-ca54-98be5a6e3e8e",
        "colab": {
          "base_uri": "https://localhost:8080/",
          "height": 282
        }
      },
      "source": [
        "plt.imshow(images[2].numpy().squeeze(), cmap='Greys_r')"
      ],
      "execution_count": 0,
      "outputs": [
        {
          "output_type": "execute_result",
          "data": {
            "text/plain": [
              "<matplotlib.image.AxesImage at 0x7fc1731582b0>"
            ]
          },
          "metadata": {
            "tags": []
          },
          "execution_count": 26
        },
        {
          "output_type": "display_data",
          "data": {
            "image/png": "[encoded data removed]",
            "text/plain": [
              "<Figure size 432x288 with 1 Axes>"
            ]
          },
          "metadata": {
            "tags": [],
            "image/png": {
              "width": 251,
              "height": 248
            },
            "needs_background": "light"
          }
        }
      ]
    },
    {
      "cell_type": "code",
      "metadata": {
        "id": "udLecUh9861b",
        "colab_type": "code",
        "colab": {}
      },
      "source": [
        "## Solution\n",
        "def activation(x):\n",
        "  return 1/(1 + torch.exp(-x))\n",
        "\n",
        "# Flatten the input images \n",
        "inputs = images.view(images.shape[0], -1)\n",
        "\n",
        "# create parameters \n",
        "w1 = torch.randn(784, 256)\n",
        "b1 = torch.randn(256)\n",
        "\n",
        "w2 = torch.randn(256, 10)\n",
        "b2 = torch.randn(10)\n",
        "\n",
        "h = activation(torch.mm(inputs, w1) + b1)\n",
        "\n",
        "out = torch.mm(h, w2) + b2"
      ],
      "execution_count": 0,
      "outputs": []
    },
    {
      "cell_type": "code",
      "metadata": {
        "id": "hiu9kBYHKIo1",
        "colab_type": "code",
        "outputId": "edfac72e-466d-4dd6-a5c8-bee820f7be30",
        "colab": {
          "base_uri": "https://localhost:8080/",
          "height": 34
        }
      },
      "source": [
        "# shape of the output\n",
        "print(out.shape)"
      ],
      "execution_count": 6,
      "outputs": [
        {
          "output_type": "stream",
          "text": [
            "torch.Size([64, 10])\n"
          ],
          "name": "stdout"
        }
      ]
    },
    {
      "cell_type": "code",
      "metadata": {
        "id": "UAGxfjMPnnKD",
        "colab_type": "code",
        "outputId": "1f140d84-e207-4028-d644-45673b3243cc",
        "colab": {
          "base_uri": "https://localhost:8080/",
          "height": 1000
        }
      },
      "source": [
        "# output of this network\n",
        "print(out)"
      ],
      "execution_count": 7,
      "outputs": [
        {
          "output_type": "stream",
          "text": [
            "tensor([[ 10.5865,   1.1304, -16.0917,  15.6834,   7.3595,   7.2271,  -1.5350,\n",
            "           5.4961, -16.2335,   0.8729],\n",
            "        [ -6.4218,   3.2265, -12.0400,   2.1712,   6.5696,   5.5885,   2.0303,\n",
            "          11.4941,  -9.1172,   2.2031],\n",
            "        [ 10.8947,   4.2192, -12.0227,   8.5926,   2.5690,   2.1430,  -6.7003,\n",
            "          18.4273, -10.7352,  11.0150],\n",
            "        [  7.3440,   3.7535, -12.5278,   8.9863,   7.5441,  12.0524,  -8.3484,\n",
            "           3.1226,  -8.6451,   0.7361],\n",
            "        [  4.1578,   3.8713,  -9.4386,  -9.2179,  -1.1174,  -1.7442, -10.3521,\n",
            "           7.8801, -20.9247,   3.3343],\n",
            "        [ -7.6736,  -3.3866, -18.5140,  11.8180,  10.3566,  -0.3377,   1.5712,\n",
            "           4.7329, -13.7618,   5.6424],\n",
            "        [  9.1120,   5.6668, -20.4376,   6.8100,  -1.0490,  -4.1587,   2.5284,\n",
            "           7.4449,  -1.2881,  -2.4503],\n",
            "        [  0.6442,  -2.0981, -12.0474,  -1.8495,   1.9449,   6.2568,  -2.8875,\n",
            "           9.2861,  -7.4698,   5.2004],\n",
            "        [  7.8932,  -0.3378, -13.0427,   1.0100,  -0.8798,   1.4866,   3.0107,\n",
            "           3.7871, -10.7325,   1.9161],\n",
            "        [ -4.5180,   5.9373, -19.1623,  15.9096,   8.9879,   3.1682,  -8.2434,\n",
            "          20.6028, -16.8045,   3.3850],\n",
            "        [ -3.4576,  13.6601, -17.6527,   7.8243,   4.2349,  -0.3504,  -5.2432,\n",
            "           4.1802, -14.6121,   0.9369],\n",
            "        [  2.8033,   1.9701, -13.2478,   2.7919,  14.9005,   1.8556,  -1.7798,\n",
            "          12.1542, -10.6408,  -5.3195],\n",
            "        [  1.5711,   4.3074, -17.8470,  18.4838,   9.4904,  -8.3253,  -0.5846,\n",
            "          11.7529, -17.1921,  10.6142],\n",
            "        [  2.5822,   2.8059, -16.5336,  13.2861,   9.5180,  -3.4149,  -8.0755,\n",
            "           1.3875,  -6.6926,   1.1294],\n",
            "        [  6.9725,   9.5245, -13.0577,  11.9815,  12.1816,   0.7730,  -4.9598,\n",
            "          15.9456, -15.5368,  -1.3230],\n",
            "        [  5.8134,   2.1796, -12.3969,   8.9177,   8.5637,   5.9641,  -8.3624,\n",
            "           3.8941, -11.1218,   1.1614],\n",
            "        [ -8.7993,   2.9291, -20.6738,   8.8542,   3.6632,   3.3753,  -4.0168,\n",
            "           5.5990,  -6.1460,   7.2728],\n",
            "        [  2.7573,   3.6175,   1.0090,   8.4270,  -1.8849,   0.9575,  -2.9745,\n",
            "           5.9499,  -1.4522,  -1.3251],\n",
            "        [  5.1164,  -2.7377, -20.6614,  12.5325,   3.2891,   4.3621,  -7.1834,\n",
            "          12.7733, -17.9386,   8.1317],\n",
            "        [ -1.1345,  12.1802, -19.4000,   1.4095,   4.2951,  -8.7397,   0.5862,\n",
            "           4.3910,  -3.4297,   1.4316],\n",
            "        [  2.1892,   4.8871, -16.2184,  15.9637,  18.0409,  10.4988,  -2.2539,\n",
            "           2.2831, -11.2381,   5.0547],\n",
            "        [  2.5291,   7.6402,  -9.8482,  11.8517,   4.4278,   8.0920,  -3.1310,\n",
            "           9.1331,   3.2560,  -4.5872],\n",
            "        [  4.8128,   1.5983, -16.5767,  13.2087,   1.6244,  -5.6607,  -2.2130,\n",
            "           0.4102, -16.3790,  -0.8631],\n",
            "        [ -4.0541,  -2.8476, -18.3458,  18.7352,   2.7851,  -0.3034,  -9.4744,\n",
            "           9.8648,  -7.8218,   9.0805],\n",
            "        [  0.9456,   3.9728, -18.9833,  14.8762,  11.0759,  -6.1093,  -9.0874,\n",
            "          14.7057, -18.1442,   4.7482],\n",
            "        [  2.2889,  -0.3159, -10.3495,   9.4769,   2.2134,  -9.1679, -12.3326,\n",
            "          12.8369,  -5.3945,  -0.0869],\n",
            "        [ -5.1897,   0.2088, -14.9507,   6.7629,   8.8143,   7.1611,   3.4040,\n",
            "           9.4461,  -8.1281,   1.1809],\n",
            "        [ -2.1237,  -0.6846, -10.2566,  12.5032,  10.1986,   3.0072,   6.9423,\n",
            "           3.5292,  -9.5371,   0.8800],\n",
            "        [ -1.6502,  -6.2600, -14.3461,  13.3813,   6.8161,   0.7544,   0.1253,\n",
            "          12.8514,  -6.4769,   1.4542],\n",
            "        [  3.6245,   2.1775, -13.8346,  11.9116,   0.1171, -10.3484,  -2.2260,\n",
            "          14.0412, -10.3126,  -2.9980],\n",
            "        [-12.7964,   0.2255,  -7.1676,   4.6912,   5.9059,   0.0291,  -5.4885,\n",
            "          12.5651,  -6.2720,  12.9528],\n",
            "        [  4.2142,   3.1078, -17.6782,  11.1676,   8.9293,  -3.1563,  -3.3872,\n",
            "           9.3041, -17.5700,   3.7942],\n",
            "        [ -3.1121,   4.2332,  -7.2530,   7.7520,   5.2388,  -4.5846,  -2.4040,\n",
            "          -1.4453,  -9.1316,   7.6657],\n",
            "        [  1.4590,  -2.8119,  -8.9476,   4.1711,   2.6773,  -3.2060, -11.2249,\n",
            "           8.8480,  -7.2473,   2.9323],\n",
            "        [ -1.5335,   1.0629, -17.1271,  13.7610,  19.4327,  -4.3116,  -4.1601,\n",
            "           7.9162, -10.0375,   5.3746],\n",
            "        [  6.3196,   4.3254, -14.6185,   3.2905,   6.2641,   2.0142,  -8.4860,\n",
            "           6.7538,  -0.1324,   3.1063],\n",
            "        [ -3.9546,   2.0554,  -4.8283,  12.4072,   3.3586,   1.0667, -10.2760,\n",
            "           7.9502,  -9.2286,   8.1639],\n",
            "        [  3.2119,  -0.1890, -20.5918,  19.3294,   3.7929,   7.1207,  -2.9928,\n",
            "           5.6443, -12.7432,   2.3281],\n",
            "        [ -1.7473,  -8.3273, -12.0977,   0.5523,   3.4899,   0.2992,   4.5249,\n",
            "           7.1210,  -8.3257,   3.7846],\n",
            "        [ -0.8794,   3.6019,  -7.2461,   5.3548,  14.4506,   6.8257,   2.6203,\n",
            "          10.4426,  -8.3461,  -2.9778],\n",
            "        [ -0.0483,   9.7880,  -7.6968,  12.0921,   2.4564,  -2.7301,  -5.1801,\n",
            "           7.0568, -10.0536,  -3.0349],\n",
            "        [ 10.4821,  -0.9752,  -9.7956,  10.0762,   5.3685,   5.1576,   2.6162,\n",
            "           9.3091,  -7.6704,   0.5441],\n",
            "        [ -9.1428,   2.8132, -16.4431,  10.8204,   8.0564,  11.5506,   2.1402,\n",
            "          12.0348, -12.1987,  -4.2177],\n",
            "        [  2.5663,  -4.0135, -10.8808,  19.2537,   0.6253,   8.6709,   1.4436,\n",
            "          -1.3870,  -9.1808,   4.0796],\n",
            "        [  2.4858,   7.2625, -21.4112,  10.4932,   0.0961,   8.5620,  -5.8350,\n",
            "          11.7532, -14.9350,  -5.0029],\n",
            "        [ -2.3723,   2.7071, -14.2005,   4.0455,  -7.1976,   4.4493,  -5.1944,\n",
            "           5.0534, -11.9633,   5.1242],\n",
            "        [  6.3951,   9.2276, -18.3117,  14.7569,  16.5596,   8.1018,  -5.6296,\n",
            "           8.6122, -12.1410,   6.9524],\n",
            "        [  6.0446,   4.1781, -12.3413,  18.9394,   9.2056,   9.3308,  -5.4569,\n",
            "           2.7589, -17.5521,   1.7042],\n",
            "        [ -1.1829,   3.7279, -15.3568,  13.4563,   4.0998,   7.9928,  -6.1583,\n",
            "           7.9233, -18.7558,  -1.8597],\n",
            "        [ -2.5531,  -0.7180, -14.2851,  13.2336,   5.6477,   0.5031,  -4.7941,\n",
            "           7.2432, -16.3154,   6.1622],\n",
            "        [ -3.4526,   1.7971, -15.6181,  11.8292,  -3.1082,   4.2145, -18.4197,\n",
            "          19.1343, -15.9552,  15.2258],\n",
            "        [ -4.1679,   0.4581, -16.4430,   8.8293,  12.8077,   5.3025,  -3.7786,\n",
            "          10.7710,  -8.5748,   5.3671],\n",
            "        [ -0.7954,  -0.9034, -13.6558,   8.4340,   5.0091,  -3.2112,  -2.6845,\n",
            "           8.1576,  -7.0652,  12.5641],\n",
            "        [  7.3487,   8.7223, -14.7581,  13.6178,   7.3827,  -5.0804,  -8.0472,\n",
            "           4.5127, -10.3666,   1.0807],\n",
            "        [  6.1992,   9.5866, -14.1208,   5.1347,   6.5296,   5.8964,   1.6880,\n",
            "           8.6413,  -7.9647,  -5.6896],\n",
            "        [ -1.0893,   2.1791, -16.6285,   3.9683,  13.6503,   4.2834, -10.8776,\n",
            "          17.3838, -19.6667,   9.2450],\n",
            "        [ -5.9604,   9.7872, -12.6370,  14.2241,  11.0055,   6.5823, -15.4719,\n",
            "          -0.9306, -13.0261,   1.5408],\n",
            "        [  1.4624,  -1.2034, -14.2394,  13.9191,  -1.1143,   5.7564,  -5.0172,\n",
            "          -0.8843,  -9.3741,   5.2915],\n",
            "        [ -0.1891,   7.4922, -12.5654,  15.7483,  17.0859,   6.8086,  -0.2291,\n",
            "           2.4707, -14.7925,   7.9926],\n",
            "        [ -7.0892,   3.3021, -12.9684,   9.0610,   7.8878,   6.9154,   2.2006,\n",
            "           9.1010,  -9.2843,   2.7145],\n",
            "        [ -5.3319,  -5.5848,  -9.7697,  14.9500,   6.8083,  -3.8543,  -1.4411,\n",
            "          14.2146,  -7.4649,   0.0683],\n",
            "        [ -1.3086,   7.1147, -12.5709,   5.0785,   3.7145,  -0.5185,  -0.6910,\n",
            "           6.0477,  -7.3008,  -1.5388],\n",
            "        [  0.9145,   4.6245, -12.4405,  13.8568,  14.5938,   4.4912,  -0.6039,\n",
            "           2.7460, -10.5866,   1.3729],\n",
            "        [  0.7355,   4.0725, -16.9665,   3.5185,   4.0804,  -1.3131,   1.7023,\n",
            "           4.4357, -12.1240,  -8.4135]])\n"
          ],
          "name": "stdout"
        }
      ]
    },
    {
      "cell_type": "code",
      "metadata": {
        "id": "tULW8ew1oIux",
        "colab_type": "code",
        "outputId": "cd572ab0-70e8-4c48-d3c6-5151c8b7dbe0",
        "colab": {
          "base_uri": "https://localhost:8080/",
          "height": 168
        }
      },
      "source": [
        "## softmax\n",
        "def softmax(x):\n",
        "  return torch.exp(x)/torch.sum(torch.exp(x), dim=1).view(-1,1)\n",
        "\n",
        "probabilities = softmax(out)\n",
        "\n",
        "print(probabilities.shape)\n",
        "\n",
        "print(probabilities.sum(dim=1))"
      ],
      "execution_count": 8,
      "outputs": [
        {
          "output_type": "stream",
          "text": [
            "torch.Size([64, 10])\n",
            "tensor([1.0000, 1.0000, 1.0000, 1.0000, 1.0000, 1.0000, 1.0000, 1.0000, 1.0000,\n",
            "        1.0000, 1.0000, 1.0000, 1.0000, 1.0000, 1.0000, 1.0000, 1.0000, 1.0000,\n",
            "        1.0000, 1.0000, 1.0000, 1.0000, 1.0000, 1.0000, 1.0000, 1.0000, 1.0000,\n",
            "        1.0000, 1.0000, 1.0000, 1.0000, 1.0000, 1.0000, 1.0000, 1.0000, 1.0000,\n",
            "        1.0000, 1.0000, 1.0000, 1.0000, 1.0000, 1.0000, 1.0000, 1.0000, 1.0000,\n",
            "        1.0000, 1.0000, 1.0000, 1.0000, 1.0000, 1.0000, 1.0000, 1.0000, 1.0000,\n",
            "        1.0000, 1.0000, 1.0000, 1.0000, 1.0000, 1.0000, 1.0000, 1.0000, 1.0000,\n",
            "        1.0000])\n"
          ],
          "name": "stdout"
        }
      ]
    },
    {
      "cell_type": "markdown",
      "metadata": {
        "id": "H82O8bLL5EP0",
        "colab_type": "text"
      },
      "source": [
        "## Building networks with Pytorch"
      ]
    },
    {
      "cell_type": "code",
      "metadata": {
        "id": "gVwHXWx-2o-f",
        "colab_type": "code",
        "colab": {}
      },
      "source": [
        "from torch import nn"
      ],
      "execution_count": 0,
      "outputs": []
    },
    {
      "cell_type": "code",
      "metadata": {
        "id": "JnUN1Tjx5LvL",
        "colab_type": "code",
        "colab": {}
      },
      "source": [
        "class Network(nn.Module):\n",
        "  def __init__(self):\n",
        "    super().__init__()\n",
        "\n",
        "    # Input to hidden layer Linear transformation\n",
        "    self.hidden = nn.Linear(784, 256)\n",
        "\n",
        "    # Output layer, 10 units - one from each digit\n",
        "    self.output = nn.Linear(256, 10)\n",
        "\n",
        "    self.sigmoid = nn.Sigmoid()\n",
        "    self.softmax = nn.Softmax()\n",
        "\n",
        "  def forward(self, x):\n",
        "    # Pass the input Tensor through each of the operation\n",
        "    x = self.hidden(x)\n",
        "    x = self.sigmoid(x)\n",
        "    x = self.output(x)\n",
        "    x = self.softmax(x)\n",
        "\n",
        "    return x"
      ],
      "execution_count": 0,
      "outputs": []
    },
    {
      "cell_type": "code",
      "metadata": {
        "id": "kStownfQTekG",
        "colab_type": "code",
        "outputId": "ca385d63-548f-44ed-cc33-ee76a380789d",
        "colab": {
          "base_uri": "https://localhost:8080/",
          "height": 118
        }
      },
      "source": [
        "model = Network()\n",
        "model"
      ],
      "execution_count": 11,
      "outputs": [
        {
          "output_type": "execute_result",
          "data": {
            "text/plain": [
              "Network(\n",
              "  (hidden): Linear(in_features=784, out_features=256, bias=True)\n",
              "  (output): Linear(in_features=256, out_features=10, bias=True)\n",
              "  (sigmoid): Sigmoid()\n",
              "  (softmax): Softmax(dim=None)\n",
              ")"
            ]
          },
          "metadata": {
            "tags": []
          },
          "execution_count": 11
        }
      ]
    },
    {
      "cell_type": "code",
      "metadata": {
        "id": "LFd-z_JMbR-c",
        "colab_type": "code",
        "colab": {}
      },
      "source": [
        "import torch.nn.functional as F\n",
        "\n",
        "class Network(nn.Module):\n",
        "  def __init__(self):\n",
        "    super().__init__()\n",
        "\n",
        "    # Input to hidden layer Linear transformation\n",
        "    self.hidden = nn.Linear(784, 256)\n",
        "\n",
        "    # Output layer, 10 units - one from each digit\n",
        "    self.output = nn.Linear(256, 10)\n",
        "\n",
        "  def forward(self, x):\n",
        "    x = F.sigmoid(self.hidden(x))\n",
        "    x = F.softmax(self.output(x), dim=1)\n",
        "\n",
        "    return x"
      ],
      "execution_count": 0,
      "outputs": []
    },
    {
      "cell_type": "code",
      "metadata": {
        "id": "AGQc8vr0b97e",
        "colab_type": "code",
        "colab": {}
      },
      "source": [
        ""
      ],
      "execution_count": 0,
      "outputs": []
    }
  ]
}
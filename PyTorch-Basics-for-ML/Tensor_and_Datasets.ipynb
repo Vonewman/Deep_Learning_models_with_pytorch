{
  "nbformat": 4,
  "nbformat_minor": 0,
  "metadata": {
    "colab": {
      "name": "Tensor and Datasets.ipynb",
      "provenance": [],
      "authorship_tag": "ABX9TyOFNn6eAWSrv8pp1JFjdUxh",
      "include_colab_link": true
    },
    "kernelspec": {
      "name": "python3",
      "display_name": "Python 3"
    }
  },
  "cells": [
    {
      "cell_type": "markdown",
      "metadata": {
        "id": "view-in-github",
        "colab_type": "text"
      },
      "source": [
        "<a href=\"https://colab.research.google.com/github/Vonewman/Deep_Learning_models_with_pytorch/blob/master/PyTorch-Basics-for-ML/Tensor_and_Datasets.ipynb\" target=\"_parent\"><img src=\"https://colab.research.google.com/assets/colab-badge.svg\" alt=\"Open In Colab\"/></a>"
      ]
    },
    {
      "cell_type": "markdown",
      "metadata": {
        "id": "ryk_awvAgWrS"
      },
      "source": [
        "## Tensor and Datasets"
      ]
    },
    {
      "cell_type": "markdown",
      "metadata": {
        "id": "LIiLmMWKgZi0"
      },
      "source": [
        "#### Tensors 1D"
      ]
    },
    {
      "cell_type": "code",
      "metadata": {
        "id": "__EsUuOxgRCS"
      },
      "source": [
        "import torch\n",
        "a = torch.tensor([0, 1, 2, 3, 4])"
      ],
      "execution_count": 2,
      "outputs": []
    },
    {
      "cell_type": "code",
      "metadata": {
        "id": "s5jAEPqegm-h",
        "outputId": "b6321f97-1e50-460b-e75d-cedd7495af9e",
        "colab": {
          "base_uri": "https://localhost:8080/"
        }
      },
      "source": [
        "a.dtype"
      ],
      "execution_count": 3,
      "outputs": [
        {
          "output_type": "execute_result",
          "data": {
            "text/plain": [
              "torch.int64"
            ]
          },
          "metadata": {
            "tags": []
          },
          "execution_count": 3
        }
      ]
    },
    {
      "cell_type": "code",
      "metadata": {
        "id": "WlvDm-hQg5p0",
        "outputId": "4e317299-76e4-4328-8316-14367f6bfdba",
        "colab": {
          "base_uri": "https://localhost:8080/",
          "height": 35
        }
      },
      "source": [
        "a.type()"
      ],
      "execution_count": 4,
      "outputs": [
        {
          "output_type": "execute_result",
          "data": {
            "application/vnd.google.colaboratory.intrinsic+json": {
              "type": "string"
            },
            "text/plain": [
              "'torch.LongTensor'"
            ]
          },
          "metadata": {
            "tags": []
          },
          "execution_count": 4
        }
      ]
    },
    {
      "cell_type": "code",
      "metadata": {
        "id": "UjFXsKUpg7o0"
      },
      "source": [
        "a = torch.tensor([0., 1., 2., 3., 4.])"
      ],
      "execution_count": 5,
      "outputs": []
    },
    {
      "cell_type": "code",
      "metadata": {
        "id": "J7cauVhMhCcP",
        "outputId": "07af8f67-1def-404a-8e0c-c170b2d25878",
        "colab": {
          "base_uri": "https://localhost:8080/"
        }
      },
      "source": [
        "a.dtype"
      ],
      "execution_count": 6,
      "outputs": [
        {
          "output_type": "execute_result",
          "data": {
            "text/plain": [
              "torch.float32"
            ]
          },
          "metadata": {
            "tags": []
          },
          "execution_count": 6
        }
      ]
    },
    {
      "cell_type": "code",
      "metadata": {
        "id": "tM3zbpZ4hE9e",
        "outputId": "a598b155-911e-4ebd-ff46-cc46101b4d2c",
        "colab": {
          "base_uri": "https://localhost:8080/",
          "height": 35
        }
      },
      "source": [
        "a.type()"
      ],
      "execution_count": 7,
      "outputs": [
        {
          "output_type": "execute_result",
          "data": {
            "application/vnd.google.colaboratory.intrinsic+json": {
              "type": "string"
            },
            "text/plain": [
              "'torch.FloatTensor'"
            ]
          },
          "metadata": {
            "tags": []
          },
          "execution_count": 7
        }
      ]
    },
    {
      "cell_type": "code",
      "metadata": {
        "id": "2Rfck9fThGMD",
        "outputId": "9dc546fd-b608-4706-f4f2-f3a7d14b0e92",
        "colab": {
          "base_uri": "https://localhost:8080/"
        }
      },
      "source": [
        "a = torch.FloatTensor([0, 1, 2, 3, 4])\n",
        "a"
      ],
      "execution_count": 8,
      "outputs": [
        {
          "output_type": "execute_result",
          "data": {
            "text/plain": [
              "tensor([0., 1., 2., 3., 4.])"
            ]
          },
          "metadata": {
            "tags": []
          },
          "execution_count": 8
        }
      ]
    },
    {
      "cell_type": "code",
      "metadata": {
        "id": "Z7NsOs5WhO64",
        "outputId": "bf87a133-8626-464d-96c6-26649be75a6c",
        "colab": {
          "base_uri": "https://localhost:8080/"
        }
      },
      "source": [
        "a.dtype"
      ],
      "execution_count": 9,
      "outputs": [
        {
          "output_type": "execute_result",
          "data": {
            "text/plain": [
              "torch.float32"
            ]
          },
          "metadata": {
            "tags": []
          },
          "execution_count": 9
        }
      ]
    },
    {
      "cell_type": "code",
      "metadata": {
        "id": "FdqScgjqhMGt",
        "outputId": "0e6ac095-47cd-49ed-9a40-56e59a672f67",
        "colab": {
          "base_uri": "https://localhost:8080/",
          "height": 35
        }
      },
      "source": [
        "a.type()"
      ],
      "execution_count": 10,
      "outputs": [
        {
          "output_type": "execute_result",
          "data": {
            "application/vnd.google.colaboratory.intrinsic+json": {
              "type": "string"
            },
            "text/plain": [
              "'torch.FloatTensor'"
            ]
          },
          "metadata": {
            "tags": []
          },
          "execution_count": 10
        }
      ]
    },
    {
      "cell_type": "code",
      "metadata": {
        "id": "luo8oc_ThQ-D",
        "outputId": "7383b290-786b-442f-ecb0-a85fe1c86d52",
        "colab": {
          "base_uri": "https://localhost:8080/"
        }
      },
      "source": [
        "a = torch.tensor([0, 1, 2, 3, 4])\n",
        "a.size()\n",
        "a.ndimension()"
      ],
      "execution_count": 12,
      "outputs": [
        {
          "output_type": "execute_result",
          "data": {
            "text/plain": [
              "1"
            ]
          },
          "metadata": {
            "tags": []
          },
          "execution_count": 12
        }
      ]
    },
    {
      "cell_type": "code",
      "metadata": {
        "id": "0ir3Xxbdh5YP"
      },
      "source": [
        "a_col = a.view(5, 1)"
      ],
      "execution_count": 13,
      "outputs": []
    },
    {
      "cell_type": "code",
      "metadata": {
        "id": "5VHyxC_ZiNXU",
        "outputId": "f82bacc4-93f3-43e0-b4e5-bc056c3cb53c",
        "colab": {
          "base_uri": "https://localhost:8080/"
        }
      },
      "source": [
        "a_col"
      ],
      "execution_count": 14,
      "outputs": [
        {
          "output_type": "execute_result",
          "data": {
            "text/plain": [
              "tensor([[0],\n",
              "        [1],\n",
              "        [2],\n",
              "        [3],\n",
              "        [4]])"
            ]
          },
          "metadata": {
            "tags": []
          },
          "execution_count": 14
        }
      ]
    },
    {
      "cell_type": "code",
      "metadata": {
        "id": "FjApa8ACiO_K"
      },
      "source": [
        "a_col = a.view(-1, 1)"
      ],
      "execution_count": 15,
      "outputs": []
    },
    {
      "cell_type": "code",
      "metadata": {
        "id": "3alvVwG1ivio",
        "outputId": "ce105f81-6c6b-4525-eae6-893bbc23f43e",
        "colab": {
          "base_uri": "https://localhost:8080/"
        }
      },
      "source": [
        "a_col"
      ],
      "execution_count": 16,
      "outputs": [
        {
          "output_type": "execute_result",
          "data": {
            "text/plain": [
              "tensor([[0],\n",
              "        [1],\n",
              "        [2],\n",
              "        [3],\n",
              "        [4]])"
            ]
          },
          "metadata": {
            "tags": []
          },
          "execution_count": 16
        }
      ]
    },
    {
      "cell_type": "code",
      "metadata": {
        "id": "36RCurmWiwjR"
      },
      "source": [
        "import numpy as np\n",
        "\n",
        "numpy_array = np.array([0., 1., 2., 3., 4.])\n",
        "torch_tensor = torch.from_numpy(numpy_array)\n",
        "back_to_numpy = torch_tensor.numpy()"
      ],
      "execution_count": 17,
      "outputs": []
    },
    {
      "cell_type": "code",
      "metadata": {
        "id": "AS1vg9Dxjg4j",
        "outputId": "e651c84b-aeb7-45f4-9de1-30febf8fca9e",
        "colab": {
          "base_uri": "https://localhost:8080/"
        }
      },
      "source": [
        "torch_tensor"
      ],
      "execution_count": 18,
      "outputs": [
        {
          "output_type": "execute_result",
          "data": {
            "text/plain": [
              "tensor([0., 1., 2., 3., 4.], dtype=torch.float64)"
            ]
          },
          "metadata": {
            "tags": []
          },
          "execution_count": 18
        }
      ]
    },
    {
      "cell_type": "code",
      "metadata": {
        "id": "hSCkR77xjiw1",
        "outputId": "fc133750-e385-4f9a-8c75-fda6ceddb01a",
        "colab": {
          "base_uri": "https://localhost:8080/"
        }
      },
      "source": [
        "back_to_numpy"
      ],
      "execution_count": 19,
      "outputs": [
        {
          "output_type": "execute_result",
          "data": {
            "text/plain": [
              "array([0., 1., 2., 3., 4.])"
            ]
          },
          "metadata": {
            "tags": []
          },
          "execution_count": 19
        }
      ]
    },
    {
      "cell_type": "markdown",
      "metadata": {
        "id": "SKbm5y-Nkaso"
      },
      "source": [
        "#### Indexing and slicing"
      ]
    },
    {
      "cell_type": "code",
      "metadata": {
        "id": "dmXTR5OIjkvY",
        "outputId": "fa1fb28c-e7cc-4022-f350-5e16ea7f6ff2",
        "colab": {
          "base_uri": "https://localhost:8080/"
        }
      },
      "source": [
        "c = torch.tensor([20, 1, 2, 3, 4])\n",
        "c"
      ],
      "execution_count": 22,
      "outputs": [
        {
          "output_type": "execute_result",
          "data": {
            "text/plain": [
              "tensor([20,  1,  2,  3,  4])"
            ]
          },
          "metadata": {
            "tags": []
          },
          "execution_count": 22
        }
      ]
    },
    {
      "cell_type": "code",
      "metadata": {
        "id": "9qdqCnr0nXxX"
      },
      "source": [
        "c[0] = 100"
      ],
      "execution_count": 23,
      "outputs": []
    },
    {
      "cell_type": "code",
      "metadata": {
        "id": "RYK8sXhNpNXQ",
        "outputId": "7676c69c-a1b5-4aad-98cb-ce47014824c0",
        "colab": {
          "base_uri": "https://localhost:8080/"
        }
      },
      "source": [
        "c"
      ],
      "execution_count": 24,
      "outputs": [
        {
          "output_type": "execute_result",
          "data": {
            "text/plain": [
              "tensor([100,   1,   2,   3,   4])"
            ]
          },
          "metadata": {
            "tags": []
          },
          "execution_count": 24
        }
      ]
    },
    {
      "cell_type": "code",
      "metadata": {
        "id": "gN-61Yx4pNyS",
        "outputId": "134ac5cb-6728-4e0a-aefb-23b205aed118",
        "colab": {
          "base_uri": "https://localhost:8080/"
        }
      },
      "source": [
        "c[4] = 0\n",
        "c"
      ],
      "execution_count": 25,
      "outputs": [
        {
          "output_type": "execute_result",
          "data": {
            "text/plain": [
              "tensor([100,   1,   2,   3,   0])"
            ]
          },
          "metadata": {
            "tags": []
          },
          "execution_count": 25
        }
      ]
    },
    {
      "cell_type": "code",
      "metadata": {
        "id": "OKW3FYufp48Y"
      },
      "source": [
        "d=c[1:4]"
      ],
      "execution_count": 26,
      "outputs": []
    },
    {
      "cell_type": "code",
      "metadata": {
        "id": "1VMVlrQXqSgU",
        "outputId": "ff9c974d-c3ee-4c50-f5f4-cc719c65079c",
        "colab": {
          "base_uri": "https://localhost:8080/"
        }
      },
      "source": [
        "d"
      ],
      "execution_count": 27,
      "outputs": [
        {
          "output_type": "execute_result",
          "data": {
            "text/plain": [
              "tensor([1, 2, 3])"
            ]
          },
          "metadata": {
            "tags": []
          },
          "execution_count": 27
        }
      ]
    },
    {
      "cell_type": "code",
      "metadata": {
        "id": "STqb4_iBqS0F",
        "outputId": "f3fcb05c-caff-41ff-b26c-4ef488ff5b32",
        "colab": {
          "base_uri": "https://localhost:8080/"
        }
      },
      "source": [
        "c[3:5]=torch.tensor([300.0, 400.0])\n",
        "c"
      ],
      "execution_count": 28,
      "outputs": [
        {
          "output_type": "execute_result",
          "data": {
            "text/plain": [
              "tensor([100,   1,   2, 300, 400])"
            ]
          },
          "metadata": {
            "tags": []
          },
          "execution_count": 28
        }
      ]
    },
    {
      "cell_type": "markdown",
      "metadata": {
        "id": "6DKQzalnsRya"
      },
      "source": [
        "#### Basic Operation"
      ]
    },
    {
      "cell_type": "markdown",
      "metadata": {
        "id": "JegwNESdsjjR"
      },
      "source": [
        "* Addition"
      ]
    },
    {
      "cell_type": "code",
      "metadata": {
        "id": "096mkTYDrqZw",
        "outputId": "0ce1f1fc-668d-49db-f59d-8af58ce6ba94",
        "colab": {
          "base_uri": "https://localhost:8080/"
        }
      },
      "source": [
        "u = torch.Tensor([1.0, 0.0])\n",
        "v = torch.Tensor([0.0, 1.0])\n",
        "z = u + v\n",
        "z"
      ],
      "execution_count": 29,
      "outputs": [
        {
          "output_type": "execute_result",
          "data": {
            "text/plain": [
              "tensor([1., 1.])"
            ]
          },
          "metadata": {
            "tags": []
          },
          "execution_count": 29
        }
      ]
    },
    {
      "cell_type": "markdown",
      "metadata": {
        "id": "lbFoYFxYuKNr"
      },
      "source": [
        "* Vector Multiplication with a Scalar"
      ]
    },
    {
      "cell_type": "code",
      "metadata": {
        "id": "s-b51RR4tpE4",
        "outputId": "889ca5f4-79ad-4f85-8f7d-07b7cd89de46",
        "colab": {
          "base_uri": "https://localhost:8080/"
        }
      },
      "source": [
        "y = torch.tensor([1, 2])\n",
        "z = 2 * y\n",
        "print(z)"
      ],
      "execution_count": 30,
      "outputs": [
        {
          "output_type": "stream",
          "text": [
            "tensor([2, 4])\n"
          ],
          "name": "stdout"
        }
      ]
    },
    {
      "cell_type": "markdown",
      "metadata": {
        "id": "4tdDujHjAAqC"
      },
      "source": [
        "* Product of two tensors"
      ]
    },
    {
      "cell_type": "code",
      "metadata": {
        "id": "7pycXj02_16a",
        "outputId": "a3c39666-5951-4ff7-9299-989056e92d45",
        "colab": {
          "base_uri": "https://localhost:8080/"
        }
      },
      "source": [
        "# Hadarmard product\n",
        "u = torch.tensor([1, 2])\n",
        "v = torch.tensor([3, 2])\n",
        "z = u * v\n",
        "print(z)"
      ],
      "execution_count": 31,
      "outputs": [
        {
          "output_type": "stream",
          "text": [
            "tensor([3, 4])\n"
          ],
          "name": "stdout"
        }
      ]
    },
    {
      "cell_type": "markdown",
      "metadata": {
        "id": "vlG1MI02A-H-"
      },
      "source": [
        "* Dot product\n"
      ]
    },
    {
      "cell_type": "code",
      "metadata": {
        "id": "zZbqCHu1AUur",
        "outputId": "06e66451-14f7-4b7d-9d1f-2692287a8585",
        "colab": {
          "base_uri": "https://localhost:8080/"
        }
      },
      "source": [
        "u = torch.tensor([1, 2])\n",
        "v = torch.tensor([3, 1])\n",
        "result = torch.dot(u, v)\n",
        "print(result)"
      ],
      "execution_count": 33,
      "outputs": [
        {
          "output_type": "stream",
          "text": [
            "tensor(5)\n"
          ],
          "name": "stdout"
        }
      ]
    },
    {
      "cell_type": "markdown",
      "metadata": {
        "id": "7S3yUQJRB8GG"
      },
      "source": [
        "* Adding a constant to a tensor"
      ]
    },
    {
      "cell_type": "code",
      "metadata": {
        "id": "_8nUgf09BNqx",
        "outputId": "319087ce-43d2-4d96-8691-6984f168bb8b",
        "colab": {
          "base_uri": "https://localhost:8080/"
        }
      },
      "source": [
        "# Broadcasting\n",
        "u = torch.tensor([1, 2, 3, -1])\n",
        "z = u + 1\n",
        "print(z)"
      ],
      "execution_count": 34,
      "outputs": [
        {
          "output_type": "stream",
          "text": [
            "tensor([2, 3, 4, 0])\n"
          ],
          "name": "stdout"
        }
      ]
    },
    {
      "cell_type": "markdown",
      "metadata": {
        "id": "vLHcnOF8CZt6"
      },
      "source": [
        "#### Functions"
      ]
    },
    {
      "cell_type": "markdown",
      "metadata": {
        "id": "PUwq8vXeCjxm"
      },
      "source": [
        "* Universal Functions"
      ]
    },
    {
      "cell_type": "code",
      "metadata": {
        "id": "MgH2Mz4tCTRG"
      },
      "source": [
        "b = torch.tensor([1, -2, 3, 4, 5])\n",
        "max_b = b.max()"
      ],
      "execution_count": 37,
      "outputs": []
    },
    {
      "cell_type": "code",
      "metadata": {
        "id": "lqhwStxMDNPx",
        "outputId": "44ac7f4a-38b6-4051-a756-62411d74b7d3",
        "colab": {
          "base_uri": "https://localhost:8080/"
        }
      },
      "source": [
        "max_b"
      ],
      "execution_count": 38,
      "outputs": [
        {
          "output_type": "execute_result",
          "data": {
            "text/plain": [
              "tensor(5)"
            ]
          },
          "metadata": {
            "tags": []
          },
          "execution_count": 38
        }
      ]
    },
    {
      "cell_type": "code",
      "metadata": {
        "id": "mShrbTCpDOjg",
        "outputId": "e8ac5638-e653-4d7a-c675-c50a9c9f85cb",
        "colab": {
          "base_uri": "https://localhost:8080/",
          "height": 283
        }
      },
      "source": [
        "x = torch.tensor([0, np.pi/2, np.pi])\n",
        "y = torch.sin(x)\n",
        "\n",
        "import matplotlib.pyplot as plt\n",
        "%matplotlib inline\n",
        "\n",
        "plt.plot(x.numpy(), y.numpy())"
      ],
      "execution_count": 45,
      "outputs": [
        {
          "output_type": "execute_result",
          "data": {
            "text/plain": [
              "[<matplotlib.lines.Line2D at 0x7f54e5982828>]"
            ]
          },
          "metadata": {
            "tags": []
          },
          "execution_count": 45
        },
        {
          "output_type": "display_data",
          "data": {
            "image/png": "[encoded data removed]",
            "text/plain": [
              "<Figure size 432x288 with 1 Axes>"
            ]
          },
          "metadata": {
            "tags": [],
            "needs_background": "light"
          }
        }
      ]
    },
    {
      "cell_type": "code",
      "metadata": {
        "id": "FfnvvTnvDmHd",
        "outputId": "fb571666-7dc3-43c2-d9d1-e2ce334521f0",
        "colab": {
          "base_uri": "https://localhost:8080/"
        }
      },
      "source": [
        "x = torch.linspace(-2, 2, steps=5)\n",
        "print(x)"
      ],
      "execution_count": 46,
      "outputs": [
        {
          "output_type": "stream",
          "text": [
            "tensor([-2., -1.,  0.,  1.,  2.])\n"
          ],
          "name": "stdout"
        }
      ]
    },
    {
      "cell_type": "code",
      "metadata": {
        "id": "dwZSiNGWD8sv",
        "outputId": "333f5cb3-efb1-4e5e-ea0a-496bbb38b9f7",
        "colab": {
          "base_uri": "https://localhost:8080/"
        }
      },
      "source": [
        "y = torch.linspace(-2, 2, 9)\n",
        "print(y)"
      ],
      "execution_count": 47,
      "outputs": [
        {
          "output_type": "stream",
          "text": [
            "tensor([-2.0000, -1.5000, -1.0000, -0.5000,  0.0000,  0.5000,  1.0000,  1.5000,\n",
            "         2.0000])\n"
          ],
          "name": "stdout"
        }
      ]
    },
    {
      "cell_type": "code",
      "metadata": {
        "id": "XyubJHRAFc4u",
        "outputId": "4235eded-8b14-49c9-e0a5-59f9ac29e7f2",
        "colab": {
          "base_uri": "https://localhost:8080/",
          "height": 283
        }
      },
      "source": [
        "x = torch.linspace(0, 2*np.pi, 100)\n",
        "y = torch.sin(x)\n",
        "\n",
        "plt.plot(x.numpy(), y.numpy())"
      ],
      "execution_count": 48,
      "outputs": [
        {
          "output_type": "execute_result",
          "data": {
            "text/plain": [
              "[<matplotlib.lines.Line2D at 0x7f54e4ec4710>]"
            ]
          },
          "metadata": {
            "tags": []
          },
          "execution_count": 48
        },
        {
          "output_type": "display_data",
          "data": {
            "image/png": "[encoded data removed]",
            "text/plain": [
              "<Figure size 432x288 with 1 Axes>"
            ]
          },
          "metadata": {
            "tags": [],
            "needs_background": "light"
          }
        }
      ]
    },
    {
      "cell_type": "code",
      "metadata": {
        "id": "29gz7jrsHE1O",
        "outputId": "4bc1c026-2666-4de2-bbf8-8a771db6b823",
        "colab": {
          "base_uri": "https://localhost:8080/"
        }
      },
      "source": [
        "torch.linspace(3, 10, steps=5)"
      ],
      "execution_count": 49,
      "outputs": [
        {
          "output_type": "execute_result",
          "data": {
            "text/plain": [
              "tensor([ 3.0000,  4.7500,  6.5000,  8.2500, 10.0000])"
            ]
          },
          "metadata": {
            "tags": []
          },
          "execution_count": 49
        }
      ]
    },
    {
      "cell_type": "code",
      "metadata": {
        "id": "aLSA_k_1HrGj",
        "outputId": "884dd932-7084-431a-b55c-ad4184d5efef",
        "colab": {
          "base_uri": "https://localhost:8080/"
        }
      },
      "source": [
        " torch.linspace(-10, 10, steps=5)"
      ],
      "execution_count": 50,
      "outputs": [
        {
          "output_type": "execute_result",
          "data": {
            "text/plain": [
              "tensor([-10.,  -5.,   0.,   5.,  10.])"
            ]
          },
          "metadata": {
            "tags": []
          },
          "execution_count": 50
        }
      ]
    },
    {
      "cell_type": "code",
      "metadata": {
        "id": "13atqNFGHuXU",
        "outputId": "9f6ec784-d3df-4a14-8e33-ffdc01ed81e2",
        "colab": {
          "base_uri": "https://localhost:8080/"
        }
      },
      "source": [
        "torch.linspace(start=-10, end=10, steps=5)"
      ],
      "execution_count": 51,
      "outputs": [
        {
          "output_type": "execute_result",
          "data": {
            "text/plain": [
              "tensor([-10.,  -5.,   0.,   5.,  10.])"
            ]
          },
          "metadata": {
            "tags": []
          },
          "execution_count": 51
        }
      ]
    },
    {
      "cell_type": "code",
      "metadata": {
        "id": "1Y2c1Uu9IMvW"
      },
      "source": [
        ""
      ],
      "execution_count": null,
      "outputs": []
    }
  ]
}
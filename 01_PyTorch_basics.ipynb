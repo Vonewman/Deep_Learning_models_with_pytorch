{
  "nbformat": 4,
  "nbformat_minor": 0,
  "metadata": {
    "colab": {
      "name": "01-PyTorch-basics.ipynb",
      "provenance": [],
      "authorship_tag": "ABX9TyMaXGlJCSRkNaq0N84dHN4W",
      "include_colab_link": true
    },
    "kernelspec": {
      "name": "python3",
      "display_name": "Python 3"
    }
  },
  "cells": [
    {
      "cell_type": "markdown",
      "metadata": {
        "id": "view-in-github",
        "colab_type": "text"
      },
      "source": [
        "<a href=\"https://colab.research.google.com/github/Vonewman/Deep_Learning_models_with_pytorch/blob/master/01_PyTorch_basics.ipynb\" target=\"_parent\"><img src=\"https://colab.research.google.com/assets/colab-badge.svg\" alt=\"Open In Colab\"/></a>"
      ]
    },
    {
      "cell_type": "code",
      "metadata": {
        "id": "5jokBFwnDbnR"
      },
      "source": [
        "import torch"
      ],
      "execution_count": 5,
      "outputs": []
    },
    {
      "cell_type": "markdown",
      "metadata": {
        "id": "p31KwPZVEiK3"
      },
      "source": [
        "## Tensors\n",
        "At it's core Pytorch is a library for processing tensors. A tensor is a number, vector, matrix or any n-dimensional array. Let's create a tensor with a single number."
      ]
    },
    {
      "cell_type": "code",
      "metadata": {
        "id": "4g6w0HN_EIUW",
        "outputId": "dbcd89e1-5a64-4504-df73-d510d01e3a24",
        "colab": {
          "base_uri": "https://localhost:8080/",
          "height": 35
        }
      },
      "source": [
        "# Number\n",
        "t1 = torch.tensor(4.)\n",
        "t1"
      ],
      "execution_count": 6,
      "outputs": [
        {
          "output_type": "execute_result",
          "data": {
            "text/plain": [
              "tensor(4.)"
            ]
          },
          "metadata": {
            "tags": []
          },
          "execution_count": 6
        }
      ]
    },
    {
      "cell_type": "code",
      "metadata": {
        "id": "-hxdmbZeFhf6",
        "outputId": "ecbb13ec-f985-463b-dc20-85ac7f808522",
        "colab": {
          "base_uri": "https://localhost:8080/",
          "height": 35
        }
      },
      "source": [
        "t1.dtype"
      ],
      "execution_count": 7,
      "outputs": [
        {
          "output_type": "execute_result",
          "data": {
            "text/plain": [
              "torch.float32"
            ]
          },
          "metadata": {
            "tags": []
          },
          "execution_count": 7
        }
      ]
    },
    {
      "cell_type": "code",
      "metadata": {
        "id": "iG32paBoLEE2",
        "outputId": "d95a5638-0463-41e6-87d9-affeb522b35c",
        "colab": {
          "base_uri": "https://localhost:8080/",
          "height": 35
        }
      },
      "source": [
        "# Vector\n",
        "t2 = torch.tensor([1., 2, 3, 4])\n",
        "t2"
      ],
      "execution_count": 8,
      "outputs": [
        {
          "output_type": "execute_result",
          "data": {
            "text/plain": [
              "tensor([1., 2., 3., 4.])"
            ]
          },
          "metadata": {
            "tags": []
          },
          "execution_count": 8
        }
      ]
    },
    {
      "cell_type": "code",
      "metadata": {
        "id": "T5nZuHNBLkUu",
        "outputId": "83648258-3b26-40cc-8d86-f5d7d287e5b9",
        "colab": {
          "base_uri": "https://localhost:8080/",
          "height": 69
        }
      },
      "source": [
        "# Matrix\n",
        "t3 = torch.tensor([[5., 6], [7, 8], [9, 10]])\n",
        "t3"
      ],
      "execution_count": 9,
      "outputs": [
        {
          "output_type": "execute_result",
          "data": {
            "text/plain": [
              "tensor([[ 5.,  6.],\n",
              "        [ 7.,  8.],\n",
              "        [ 9., 10.]])"
            ]
          },
          "metadata": {
            "tags": []
          },
          "execution_count": 9
        }
      ]
    },
    {
      "cell_type": "code",
      "metadata": {
        "id": "vZMgJEP-aJWq",
        "outputId": "2918bd58-f45e-4334-a676-14da2189fc04",
        "colab": {
          "base_uri": "https://localhost:8080/",
          "height": 104
        }
      },
      "source": [
        "# 3-dimensional array\n",
        "t4 = torch.tensor([\n",
        "                   [[11, 12, 13], \n",
        "                    [13, 14, 15]],\n",
        "                   [[15, 16, 17],\n",
        "                    [17, 18, 19.]]\n",
        "])\n",
        "t4"
      ],
      "execution_count": 10,
      "outputs": [
        {
          "output_type": "execute_result",
          "data": {
            "text/plain": [
              "tensor([[[11., 12., 13.],\n",
              "         [13., 14., 15.]],\n",
              "\n",
              "        [[15., 16., 17.],\n",
              "         [17., 18., 19.]]])"
            ]
          },
          "metadata": {
            "tags": []
          },
          "execution_count": 10
        }
      ]
    },
    {
      "cell_type": "markdown",
      "metadata": {
        "id": "rxw8D5lshEEI"
      },
      "source": [
        "Tensor can have any number of dimensions, and different lengths along each dimension. We can inspect along each dimension using the `.shape` of a tensor."
      ]
    },
    {
      "cell_type": "code",
      "metadata": {
        "id": "BkxQSaRWb5HU"
      },
      "source": [
        ""
      ],
      "execution_count": null,
      "outputs": []
    }
  ]
}
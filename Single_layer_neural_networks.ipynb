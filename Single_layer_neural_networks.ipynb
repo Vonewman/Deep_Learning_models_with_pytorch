{
  "nbformat": 4,
  "nbformat_minor": 0,
  "metadata": {
    "colab": {
      "name": "Single layer neural networks.ipynb",
      "provenance": [],
      "authorship_tag": "ABX9TyMUH9mbXgS1enc4Ce8st4Oa",
      "include_colab_link": true
    },
    "kernelspec": {
      "name": "python3",
      "display_name": "Python 3"
    }
  },
  "cells": [
    {
      "cell_type": "markdown",
      "metadata": {
        "id": "view-in-github",
        "colab_type": "text"
      },
      "source": [
        "<a href=\"https://colab.research.google.com/github/Vonewman/Deep_Learning_models_with_pytorch/blob/master/Single_layer_neural_networks.ipynb\" target=\"_parent\"><img src=\"https://colab.research.google.com/assets/colab-badge.svg\" alt=\"Open In Colab\"/></a>"
      ]
    },
    {
      "cell_type": "code",
      "metadata": {
        "id": "paOINHnCDt8g",
        "colab_type": "code",
        "colab": {}
      },
      "source": [
        "import torch"
      ],
      "execution_count": 2,
      "outputs": []
    },
    {
      "cell_type": "markdown",
      "metadata": {
        "id": "yqobIE9ZLcNi",
        "colab_type": "text"
      },
      "source": [
        "## Activation function"
      ]
    },
    {
      "cell_type": "code",
      "metadata": {
        "id": "FOVuSVBWE43n",
        "colab_type": "code",
        "colab": {}
      },
      "source": [
        "def sigmoid(x):\n",
        "    \"\"\"\n",
        "    Sigmoid activation function\n",
        "\n",
        "    Argumenets:\n",
        "    -----------\n",
        "    x: torch.Tensor\n",
        "    \"\"\"\n",
        "    return 1/(1 + torch.exp(-x))"
      ],
      "execution_count": 3,
      "outputs": []
    },
    {
      "cell_type": "markdown",
      "metadata": {
        "id": "XOr5pLWBSJDl",
        "colab_type": "text"
      },
      "source": [
        "### Generate some data"
      ]
    },
    {
      "cell_type": "code",
      "metadata": {
        "id": "SHU9T6u_Li52",
        "colab_type": "code",
        "colab": {}
      },
      "source": [
        "torch.manual_seed(4)  # Set the random so things are predictable\n",
        "\n",
        "# Features are three random normal variables\n",
        "features = torch.randn((1, 5))\n",
        "# True weights for our data, random normal variables again\n",
        "weights = torch.randn_like(features)\n",
        "# and a true bias term\n",
        "bias = torch.randn((1, 1))"
      ],
      "execution_count": 5,
      "outputs": []
    },
    {
      "cell_type": "markdown",
      "metadata": {
        "id": "j86l8saOAddu",
        "colab_type": "text"
      },
      "source": [
        "## Calculate the output of this network using the weights and bias tensors"
      ]
    },
    {
      "cell_type": "code",
      "metadata": {
        "id": "qfWLYshJymFM",
        "colab_type": "code",
        "colab": {
          "base_uri": "https://localhost:8080/",
          "height": 52
        },
        "outputId": "d7d254ab-4aaa-4a39-a83b-1d8323f97ef9"
      },
      "source": [
        "y = sigmoid(torch.sum(features * weights) + bias)\n",
        "print(y)\n",
        "y = sigmoid((features * weights).sum() + bias)\n",
        "print(y)"
      ],
      "execution_count": 8,
      "outputs": [
        {
          "output_type": "stream",
          "text": [
            "tensor([[0.9916]])\n",
            "tensor([[0.9916]])\n"
          ],
          "name": "stdout"
        }
      ]
    },
    {
      "cell_type": "markdown",
      "metadata": {
        "id": "Ng-h220hAYYR",
        "colab_type": "text"
      },
      "source": [
        "## Calculate the output of this network using matrix multiplication"
      ]
    },
    {
      "cell_type": "code",
      "metadata": {
        "id": "tje4SxTD9ykR",
        "colab_type": "code",
        "colab": {
          "base_uri": "https://localhost:8080/",
          "height": 35
        },
        "outputId": "0ecb77f2-4c4a-46e9-ebfc-00e79470a9b9"
      },
      "source": [
        "out = sigmoid(torch.mm(features, weights.view(5, 1)) + bias)\n",
        "print(out)"
      ],
      "execution_count": 13,
      "outputs": [
        {
          "output_type": "stream",
          "text": [
            "tensor([[0.9916]])\n"
          ],
          "name": "stdout"
        }
      ]
    },
    {
      "cell_type": "code",
      "metadata": {
        "id": "Nl9znuL_FU3W",
        "colab_type": "code",
        "colab": {}
      },
      "source": [
        ""
      ],
      "execution_count": null,
      "outputs": []
    }
  ]
}
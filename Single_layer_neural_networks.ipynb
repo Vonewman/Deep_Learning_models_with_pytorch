{
  "nbformat": 4,
  "nbformat_minor": 0,
  "metadata": {
    "colab": {
      "name": "Single layer neural networks.ipynb",
      "provenance": [],
      "collapsed_sections": [],
      "authorship_tag": "ABX9TyOWne+nIgVs1nIdJb1YVTXi",
      "include_colab_link": true
    },
    "kernelspec": {
      "name": "python3",
      "display_name": "Python 3"
    }
  },
  "cells": [
    {
      "cell_type": "markdown",
      "metadata": {
        "id": "view-in-github",
        "colab_type": "text"
      },
      "source": [
        "<a href=\"https://colab.research.google.com/github/Vonewman/Deep_Learning_models_with_pytorch/blob/master/Single_layer_neural_networks.ipynb\" target=\"_parent\"><img src=\"https://colab.research.google.com/assets/colab-badge.svg\" alt=\"Open In Colab\"/></a>"
      ]
    },
    {
      "cell_type": "code",
      "metadata": {
        "id": "paOINHnCDt8g",
        "colab_type": "code",
        "colab": {}
      },
      "source": [
        "import torch"
      ],
      "execution_count": 17,
      "outputs": []
    },
    {
      "cell_type": "markdown",
      "metadata": {
        "id": "yqobIE9ZLcNi",
        "colab_type": "text"
      },
      "source": [
        "## Activation function"
      ]
    },
    {
      "cell_type": "code",
      "metadata": {
        "id": "FOVuSVBWE43n",
        "colab_type": "code",
        "colab": {}
      },
      "source": [
        "def sigmoid(x):\n",
        "    \"\"\"\n",
        "    Sigmoid activation function\n",
        "\n",
        "    Argumenets:\n",
        "    -----------\n",
        "    x: torch.Tensor\n",
        "    \"\"\"\n",
        "    return 1/(1 + torch.exp(-x))"
      ],
      "execution_count": 18,
      "outputs": []
    },
    {
      "cell_type": "markdown",
      "metadata": {
        "id": "XOr5pLWBSJDl",
        "colab_type": "text"
      },
      "source": [
        "### Generate some data"
      ]
    },
    {
      "cell_type": "code",
      "metadata": {
        "id": "SHU9T6u_Li52",
        "colab_type": "code",
        "colab": {}
      },
      "source": [
        "torch.manual_seed(4)  # Set the random so things are predictable\n",
        "\n",
        "# Features are three random normal variables\n",
        "features = torch.randn((1, 5))\n",
        "# True weights for our data, random normal variables again\n",
        "weights = torch.randn_like(features)\n",
        "# and a true bias term\n",
        "bias = torch.randn((1, 1))"
      ],
      "execution_count": 19,
      "outputs": []
    },
    {
      "cell_type": "markdown",
      "metadata": {
        "id": "j86l8saOAddu",
        "colab_type": "text"
      },
      "source": [
        "## Calculate the output of this network using the weights and bias tensors"
      ]
    },
    {
      "cell_type": "code",
      "metadata": {
        "id": "qfWLYshJymFM",
        "colab_type": "code",
        "colab": {
          "base_uri": "https://localhost:8080/",
          "height": 52
        },
        "outputId": "253042c4-4e77-464a-89d8-2c3b9ac6ca73"
      },
      "source": [
        "y = sigmoid(torch.sum(features * weights) + bias)\n",
        "print(y)\n",
        "y = sigmoid((features * weights).sum() + bias)\n",
        "print(y)"
      ],
      "execution_count": 20,
      "outputs": [
        {
          "output_type": "stream",
          "text": [
            "tensor([[0.9916]])\n",
            "tensor([[0.9916]])\n"
          ],
          "name": "stdout"
        }
      ]
    },
    {
      "cell_type": "markdown",
      "metadata": {
        "id": "Ng-h220hAYYR",
        "colab_type": "text"
      },
      "source": [
        "## Calculate the output of this network using matrix multiplication"
      ]
    },
    {
      "cell_type": "code",
      "metadata": {
        "id": "tje4SxTD9ykR",
        "colab_type": "code",
        "colab": {
          "base_uri": "https://localhost:8080/",
          "height": 35
        },
        "outputId": "6b3fd22a-e02c-468b-a85b-43e6c627a26f"
      },
      "source": [
        "out = sigmoid(torch.mm(features, weights.view(5, 1)) + bias)\n",
        "print(out)"
      ],
      "execution_count": 21,
      "outputs": [
        {
          "output_type": "stream",
          "text": [
            "tensor([[0.9916]])\n"
          ],
          "name": "stdout"
        }
      ]
    },
    {
      "cell_type": "markdown",
      "metadata": {
        "id": "VSHIK7TaN3NR",
        "colab_type": "text"
      },
      "source": [
        "### Stack them up!\n",
        "\n",
        "That's how you can calculate the output for a single neuron. The real power of this algorithm happens when you start stacking these individual units into layers and stacks of layers, into a network of neurons. The output of one layer of neurons becomes the input for the next layer. With multiple input units and output units, we now need to express the weights as a matrix.\n",
        "\n",
        "<img src='https://github.com/udacity/deep-learning-v2-pytorch/blob/master/intro-to-pytorch/assets/multilayer_diagram_weights.png?raw=1' width=450px>\n",
        "\n",
        "The first layer shown on the bottom here are the inputs, understandably called the **input layer**. The middle layer is called the **hidden layer**, and the final layer (on the right) is the **output layer**. We can express this network mathematically with matrices again and use matrix multiplication to get linear combinations for each unit in one operation. For example, the hidden layer ($h_1$ and $h_2$ here) can be calculated \n",
        "\n",
        "$$\n",
        "\\vec{h} = [h_1 \\, h_2] = \n",
        "\\begin{bmatrix}\n",
        "x_1 \\, x_2 \\cdots \\, x_n\n",
        "\\end{bmatrix}\n",
        "\\cdot \n",
        "\\begin{bmatrix}\n",
        "           w_{11} & w_{12} \\\\\n",
        "           w_{21} &w_{22} \\\\\n",
        "           \\vdots &\\vdots \\\\\n",
        "           w_{n1} &w_{n2}\n",
        "\\end{bmatrix}\n",
        "$$\n",
        "\n",
        "The output for this small network is found by treating the hidden layer as inputs for the output unit. The network output is expressed simply\n",
        "\n",
        "$$\n",
        "y =  f_2 \\! \\left(\\, f_1 \\! \\left(\\vec{x} \\, \\mathbf{W_1}\\right) \\mathbf{W_2} \\right)\n",
        "$$"
      ]
    },
    {
      "cell_type": "markdown",
      "metadata": {
        "id": "vbVhDyeGOQUQ",
        "colab_type": "text"
      },
      "source": [
        "## Generate some data"
      ]
    },
    {
      "cell_type": "code",
      "metadata": {
        "id": "Nl9znuL_FU3W",
        "colab_type": "code",
        "colab": {}
      },
      "source": [
        "torch.manual_seed(4)\n",
        "\n",
        "# Features are 3 random normal variables\n",
        "features = torch.randn((1, 3))\n",
        "\n",
        "# Define the size of each layer in our network\n",
        "n_input = features.shape[1]\n",
        "n_hidden = 2  # number of hidden units\n",
        "n_output = 1  # number of outputs units\n",
        "\n",
        "# Weights for inputs to hidden layer\n",
        "W1 = torch.randn(n_input, n_hidden)\n",
        "# Weights for hidden layer to output layer\n",
        "W2 = torch.randn(n_hidden, n_output)\n",
        "\n",
        "# and bias terms for hidden and output layers\n",
        "B1 = torch.randn((1, n_hidden))\n",
        "B2 = torch.randn((1, n_output))"
      ],
      "execution_count": 22,
      "outputs": []
    },
    {
      "cell_type": "code",
      "metadata": {
        "id": "8HngQxKpT2Wa",
        "colab_type": "code",
        "colab": {
          "base_uri": "https://localhost:8080/",
          "height": 35
        },
        "outputId": "ce17aba7-1b75-4e6e-f649-91db5792d8a1"
      },
      "source": [
        "h = sigmoid(torch.mm(features, W1) + B1)\n",
        "output = sigmoid(torch.mm(h, W2) + B2)\n",
        "print(B2)"
      ],
      "execution_count": 25,
      "outputs": [
        {
          "output_type": "stream",
          "text": [
            "tensor([[0.0513]])\n"
          ],
          "name": "stdout"
        }
      ]
    },
    {
      "cell_type": "markdown",
      "metadata": {
        "id": "Jq-3qCQ-1eKe",
        "colab_type": "text"
      },
      "source": [
        "## Numpy to Torch and back\n",
        "\n",
        "Special bonus section! PyTorch has a great feature for converting between Numpy arrays and Torch tensors. To create a tensor from a Numpy array, use `torch.from_numpy()`. To convert a tensor to a Numpy array, use the `.numpy()` method."
      ]
    },
    {
      "cell_type": "code",
      "metadata": {
        "id": "ER6DmuhqiVw7",
        "colab_type": "code",
        "colab": {
          "base_uri": "https://localhost:8080/",
          "height": 87
        },
        "outputId": "5452dd64-9f00-4204-d96e-b437871cdf9f"
      },
      "source": [
        "import numpy as np\n",
        "a = np.random.rand(4, 3)\n",
        "a"
      ],
      "execution_count": 26,
      "outputs": [
        {
          "output_type": "execute_result",
          "data": {
            "text/plain": [
              "array([[0.90238734, 0.14444256, 0.83502947],\n",
              "       [0.41468495, 0.34145158, 0.43205009],\n",
              "       [0.37113047, 0.90584576, 0.47130238],\n",
              "       [0.65737766, 0.67023806, 0.00990078]])"
            ]
          },
          "metadata": {
            "tags": []
          },
          "execution_count": 26
        }
      ]
    },
    {
      "cell_type": "code",
      "metadata": {
        "id": "Ki_AJvp713Nh",
        "colab_type": "code",
        "colab": {
          "base_uri": "https://localhost:8080/",
          "height": 87
        },
        "outputId": "05bf924b-8007-43f1-9602-6ad995896b4e"
      },
      "source": [
        "b = torch.from_numpy(a)\n",
        "b"
      ],
      "execution_count": 27,
      "outputs": [
        {
          "output_type": "execute_result",
          "data": {
            "text/plain": [
              "tensor([[0.9024, 0.1444, 0.8350],\n",
              "        [0.4147, 0.3415, 0.4321],\n",
              "        [0.3711, 0.9058, 0.4713],\n",
              "        [0.6574, 0.6702, 0.0099]], dtype=torch.float64)"
            ]
          },
          "metadata": {
            "tags": []
          },
          "execution_count": 27
        }
      ]
    },
    {
      "cell_type": "code",
      "metadata": {
        "id": "4QQsYCRz169f",
        "colab_type": "code",
        "colab": {
          "base_uri": "https://localhost:8080/",
          "height": 87
        },
        "outputId": "cb657fa4-e996-4600-837d-b77642974279"
      },
      "source": [
        "b.numpy()"
      ],
      "execution_count": 28,
      "outputs": [
        {
          "output_type": "execute_result",
          "data": {
            "text/plain": [
              "array([[0.90238734, 0.14444256, 0.83502947],\n",
              "       [0.41468495, 0.34145158, 0.43205009],\n",
              "       [0.37113047, 0.90584576, 0.47130238],\n",
              "       [0.65737766, 0.67023806, 0.00990078]])"
            ]
          },
          "metadata": {
            "tags": []
          },
          "execution_count": 28
        }
      ]
    },
    {
      "cell_type": "code",
      "metadata": {
        "id": "nTyLCaq32G0d",
        "colab_type": "code",
        "colab": {
          "base_uri": "https://localhost:8080/",
          "height": 87
        },
        "outputId": "49d31b65-1ebe-4b39-e8a7-692de83c5a27"
      },
      "source": [
        "b.mul_(2) # multiplication in-place"
      ],
      "execution_count": 29,
      "outputs": [
        {
          "output_type": "execute_result",
          "data": {
            "text/plain": [
              "tensor([[1.8048, 0.2889, 1.6701],\n",
              "        [0.8294, 0.6829, 0.8641],\n",
              "        [0.7423, 1.8117, 0.9426],\n",
              "        [1.3148, 1.3405, 0.0198]], dtype=torch.float64)"
            ]
          },
          "metadata": {
            "tags": []
          },
          "execution_count": 29
        }
      ]
    },
    {
      "cell_type": "code",
      "metadata": {
        "id": "cpvQ64Oz2pwh",
        "colab_type": "code",
        "colab": {
          "base_uri": "https://localhost:8080/",
          "height": 87
        },
        "outputId": "94e110c7-d15b-4361-8dba-e8c7609d2f44"
      },
      "source": [
        "# Numpy array matches new values from Tensor\n",
        "a"
      ],
      "execution_count": 30,
      "outputs": [
        {
          "output_type": "execute_result",
          "data": {
            "text/plain": [
              "array([[1.80477468, 0.28888512, 1.67005893],\n",
              "       [0.82936989, 0.68290316, 0.86410019],\n",
              "       [0.74226095, 1.81169152, 0.94260475],\n",
              "       [1.31475532, 1.34047612, 0.01980156]])"
            ]
          },
          "metadata": {
            "tags": []
          },
          "execution_count": 30
        }
      ]
    },
    {
      "cell_type": "code",
      "metadata": {
        "id": "ZPrQbrZ22uWL",
        "colab_type": "code",
        "colab": {}
      },
      "source": [
        ""
      ],
      "execution_count": null,
      "outputs": []
    }
  ]
}